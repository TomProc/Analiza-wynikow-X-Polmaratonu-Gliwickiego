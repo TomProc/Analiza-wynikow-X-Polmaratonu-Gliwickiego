{
 "cells": [
  {
   "cell_type": "markdown",
   "id": "ad28a907-9676-4076-b038-64b860f6024f",
   "metadata": {},
   "source": [
    "# ANALIZA WYNIKÓW X PÓŁMARATONU GLIWICKIEGO"
   ]
  },
  {
   "cell_type": "markdown",
   "id": "68aeaccf-6c05-4e94-899a-d8a43547e120",
   "metadata": {},
   "source": [
    "Dane pochodzą ze strony b4sport.pl, są dostępne pod adresem [Link do wyników](https://wyniki.b4sport.pl/x-polmaraton-gliwicki/e5830.html)"
   ]
  },
  {
   "cell_type": "markdown",
   "id": "9313ba4b-a1c7-4962-8ea4-f60486ced75b",
   "metadata": {},
   "source": [
    "## Importowanie bibliotek"
   ]
  },
  {
   "cell_type": "code",
   "execution_count": 1,
   "id": "294e03c9-202d-4a47-9210-542b010e321e",
   "metadata": {},
   "outputs": [],
   "source": [
    "import numpy as np\n",
    "import pandas as pd\n",
    "import matplotlib.pyplot as plt\n",
    "import seaborn as sns\n",
    "from io import StringIO\n",
    "import polars as pl\n"
   ]
  },
  {
   "cell_type": "markdown",
   "id": "356e0a53-d2c9-4788-bb92-d2b8a7fb0416",
   "metadata": {},
   "source": [
    "## Wczytanie danych i wizualizacja struktury"
   ]
  },
  {
   "cell_type": "code",
   "execution_count": 2,
   "id": "0f5cf14e-8e25-4cef-9d3d-a8f5148df530",
   "metadata": {},
   "outputs": [],
   "source": [
    "data_pd=pd.read_html(\"https://wyniki.b4sport.pl/x-polmaraton-gliwicki/e5830.html\")"
   ]
  },
  {
   "cell_type": "code",
   "execution_count": 3,
   "id": "d612d880",
   "metadata": {},
   "outputs": [
    {
     "name": "stdout",
     "output_type": "stream",
     "text": [
      "3\n"
     ]
    }
   ],
   "source": [
    "print(len(data_pd))\n"
   ]
  },
  {
   "cell_type": "code",
   "execution_count": 4,
   "id": "debc08a0-4e41-4429-8d32-775164949308",
   "metadata": {},
   "outputs": [],
   "source": [
    "data = pl.from_pandas(data_pd[2])"
   ]
  },
  {
   "cell_type": "code",
   "execution_count": 5,
   "id": "850b705f-e211-4c1b-91ec-b969509c7152",
   "metadata": {},
   "outputs": [
    {
     "data": {
      "text/plain": [
       "(763, 17)"
      ]
     },
     "execution_count": 5,
     "metadata": {},
     "output_type": "execute_result"
    }
   ],
   "source": [
    "data.shape"
   ]
  },
  {
   "cell_type": "code",
   "execution_count": 6,
   "id": "279ce418-8696-456c-8c7d-b8108ebfe25e",
   "metadata": {},
   "outputs": [
    {
     "data": {
      "text/plain": [
       "[String,\n",
       " String,\n",
       " String,\n",
       " String,\n",
       " String,\n",
       " String,\n",
       " String,\n",
       " String,\n",
       " String,\n",
       " String,\n",
       " String,\n",
       " String,\n",
       " String,\n",
       " String,\n",
       " String,\n",
       " String,\n",
       " String]"
      ]
     },
     "execution_count": 6,
     "metadata": {},
     "output_type": "execute_result"
    }
   ],
   "source": [
    "data.dtypes"
   ]
  },
  {
   "cell_type": "code",
   "execution_count": 7,
   "id": "9260158d-ed5b-408b-9f63-07a233d2942f",
   "metadata": {},
   "outputs": [
    {
     "data": {
      "text/plain": [
       "['Msc',\n",
       " 'Zawodnik',\n",
       " 'Numer',\n",
       " 'Klub',\n",
       " 'Miejscowość',\n",
       " 'Kraj',\n",
       " 'Kategoria',\n",
       " 'Mkat',\n",
       " 'K/M',\n",
       " 'Czas startu',\n",
       " '10km',\n",
       " '16.097km',\n",
       " 'Czas netto 21.097km',\n",
       " 'Czas brutto 21.097km',\n",
       " 'Różnica w czasie',\n",
       " 'Tempo min/km',\n",
       " 'Tempo km/h']"
      ]
     },
     "execution_count": 7,
     "metadata": {},
     "output_type": "execute_result"
    }
   ],
   "source": [
    "data.columns"
   ]
  },
  {
   "cell_type": "code",
   "execution_count": 8,
   "id": "65e2dc52-7bdf-4d3b-99f2-20671a3a8b99",
   "metadata": {
    "scrolled": true
   },
   "outputs": [
    {
     "data": {
      "text/html": [
       "<div><style>\n",
       ".dataframe > thead > tr,\n",
       ".dataframe > tbody > tr {\n",
       "  text-align: right;\n",
       "  white-space: pre-wrap;\n",
       "}\n",
       "</style>\n",
       "<small>shape: (10, 17)</small><table border=\"1\" class=\"dataframe\"><thead><tr><th>Msc</th><th>Zawodnik</th><th>Numer</th><th>Klub</th><th>Miejscowość</th><th>Kraj</th><th>Kategoria</th><th>Mkat</th><th>K/M</th><th>Czas startu</th><th>10km</th><th>16.097km</th><th>Czas netto 21.097km</th><th>Czas brutto 21.097km</th><th>Różnica w czasie</th><th>Tempo min/km</th><th>Tempo km/h</th></tr><tr><td>str</td><td>str</td><td>str</td><td>str</td><td>str</td><td>str</td><td>str</td><td>str</td><td>str</td><td>str</td><td>str</td><td>str</td><td>str</td><td>str</td><td>str</td><td>str</td><td>str</td></tr></thead><tbody><tr><td>null</td><td>null</td><td>null</td><td>null</td><td>null</td><td>null</td><td>null</td><td>null</td><td>null</td><td>null</td><td>null</td><td>null</td><td>null</td><td>null</td><td>null</td><td>null</td><td>null</td></tr><tr><td>&quot;1&quot;</td><td>&quot;DĄBROWSKI Przemysław&quot;</td><td>&quot;2737&quot;</td><td>&quot;DĄBROWSKI TEAM&quot;</td><td>&quot;SIECHNICE&quot;</td><td>null</td><td>&quot;M-30&quot;</td><td>&quot;1&quot;</td><td>&quot;M 1&quot;</td><td>&quot;00:00:03&quot;</td><td>&quot;00:33:51&quot;</td><td>&quot;00:54:35&quot;</td><td>&quot;01:12:14.88&quot;</td><td>&quot;01:12:17.97&quot;</td><td>null</td><td>&quot;3:25&quot;</td><td>&quot;17.5 (100%)&quot;</td></tr><tr><td>&quot;2&quot;</td><td>&quot;GRZEGORZYCA Marcin&quot;</td><td>&quot;2171&quot;</td><td>null</td><td>&quot;GIERAŁTOWICE&quot;</td><td>null</td><td>&quot;M-40&quot;</td><td>&quot;1&quot;</td><td>&quot;M 2&quot;</td><td>&quot;00:00:03&quot;</td><td>&quot;00:34:43&quot;</td><td>&quot;00:55:58&quot;</td><td>&quot;01:13:28.67&quot;</td><td>&quot;01:13:32.49&quot;</td><td>&quot;+00:01:13 (1.7%)&quot;</td><td>&quot;3:28&quot;</td><td>&quot;17.2 (98.3%)&quot;</td></tr><tr><td>&quot;3&quot;</td><td>&quot;PIELA Stanisław&quot;</td><td>&quot;2475&quot;</td><td>&quot;MKL CIĘCINA&quot;</td><td>&quot;CIĘCINA&quot;</td><td>null</td><td>&quot;M-30&quot;</td><td>&quot;2&quot;</td><td>&quot;M 3&quot;</td><td>&quot;00:00:03&quot;</td><td>&quot;00:34:41&quot;</td><td>&quot;00:55:58&quot;</td><td>&quot;01:13:30.52&quot;</td><td>&quot;01:13:33.95&quot;</td><td>&quot;+00:01:15 (1.7%)&quot;</td><td>&quot;3:29&quot;</td><td>&quot;17.2 (98.3%)&quot;</td></tr><tr><td>&quot;4&quot;</td><td>&quot;KOŻDOŃ Jarek&quot;</td><td>&quot;2834&quot;</td><td>&quot;TL ROW RYBNIK&quot;</td><td>&quot;ŻORY&quot;</td><td>null</td><td>&quot;M-40&quot;</td><td>&quot;2&quot;</td><td>&quot;M 4&quot;</td><td>&quot;00:00:04&quot;</td><td>&quot;00:34:54&quot;</td><td>&quot;00:56:06&quot;</td><td>&quot;01:13:33.43&quot;</td><td>&quot;01:13:37.44&quot;</td><td>&quot;+00:01:18 (1.8%)&quot;</td><td>&quot;3:29&quot;</td><td>&quot;17.2 (98.3%)&quot;</td></tr><tr><td>&quot;5&quot;</td><td>&quot;TESLUK Kuba&quot;</td><td>&quot;2626&quot;</td><td>&quot;AW - SZYBCIEJ - TEAM&quot;</td><td>&quot;ŻORY&quot;</td><td>null</td><td>&quot;M-30&quot;</td><td>&quot;3&quot;</td><td>&quot;M 5&quot;</td><td>&quot;00:00:03&quot;</td><td>&quot;00:34:43&quot;</td><td>&quot;00:56:01&quot;</td><td>&quot;01:13:37.37&quot;</td><td>&quot;01:13:41.02&quot;</td><td>&quot;+00:01:22 (1.9%)&quot;</td><td>&quot;3:29&quot;</td><td>&quot;17.2 (98.3%)&quot;</td></tr><tr><td>&quot;6&quot;</td><td>&quot;STEFAŃSKI Dawid&quot;</td><td>&quot;2585&quot;</td><td>null</td><td>&quot;WROCŁAW&quot;</td><td>null</td><td>&quot;M-30&quot;</td><td>&quot;4&quot;</td><td>&quot;M 6&quot;</td><td>&quot;00:00:03&quot;</td><td>&quot;00:34:43&quot;</td><td>&quot;00:55:59&quot;</td><td>&quot;01:13:43.64&quot;</td><td>&quot;01:13:47.11&quot;</td><td>&quot;+00:01:28 (2.0%)&quot;</td><td>&quot;3:29&quot;</td><td>&quot;17.2 (98.3%)&quot;</td></tr><tr><td>&quot;7&quot;</td><td>&quot;ŻANDARSKI Alan&quot;</td><td>&quot;2729&quot;</td><td>&quot;DYCZUŚ TEAM&quot;</td><td>&quot;POLSKA CEREKIEW&quot;</td><td>null</td><td>&quot;M-30&quot;</td><td>&quot;5&quot;</td><td>&quot;M 7&quot;</td><td>&quot;00:00:00&quot;</td><td>&quot;00:35:34&quot;</td><td>&quot;00:56:51&quot;</td><td>&quot;01:14:47.15&quot;</td><td>&quot;01:14:47.36&quot;</td><td>&quot;+00:02:32 (3.4%)&quot;</td><td>&quot;3:32&quot;</td><td>&quot;16.9 (96.6%)&quot;</td></tr><tr><td>&quot;8&quot;</td><td>&quot;WOLNIK Mateusz&quot;</td><td>&quot;2689&quot;</td><td>&quot;-&quot;</td><td>&quot;LYSKI&quot;</td><td>null</td><td>&quot;M-30&quot;</td><td>&quot;6&quot;</td><td>&quot;M 8&quot;</td><td>&quot;00:00:02&quot;</td><td>&quot;00:35:15&quot;</td><td>&quot;00:57:05&quot;</td><td>&quot;01:15:39.07&quot;</td><td>&quot;01:15:42.07&quot;</td><td>&quot;+00:03:24 (4.5%)&quot;</td><td>&quot;3:35&quot;</td><td>&quot;16.7 (95.4%)&quot;</td></tr><tr><td>&quot;9&quot;</td><td>&quot;NOWAK Andrzej&quot;</td><td>&quot;2426&quot;</td><td>&quot;NOWAK-TEAM&quot;</td><td>&quot;SOSNOWIEC&quot;</td><td>null</td><td>&quot;M-40&quot;</td><td>&quot;3&quot;</td><td>&quot;M 9&quot;</td><td>&quot;00:00:03&quot;</td><td>&quot;00:36:02&quot;</td><td>&quot;00:57:50&quot;</td><td>&quot;01:15:58.18&quot;</td><td>&quot;01:16:01.33&quot;</td><td>&quot;+00:03:43 (4.9%)&quot;</td><td>&quot;3:36&quot;</td><td>&quot;16.7 (95.4%)&quot;</td></tr></tbody></table></div>"
      ],
      "text/plain": [
       "shape: (10, 17)\n",
       "┌──────┬──────────────┬───────┬─────────────┬───┬─────────────┬─────────────┬────────┬─────────────┐\n",
       "│ Msc  ┆ Zawodnik     ┆ Numer ┆ Klub        ┆ … ┆ Czas brutto ┆ Różnica w   ┆ Tempo  ┆ Tempo km/h  │\n",
       "│ ---  ┆ ---          ┆ ---   ┆ ---         ┆   ┆ 21.097km    ┆ czasie      ┆ min/km ┆ ---         │\n",
       "│ str  ┆ str          ┆ str   ┆ str         ┆   ┆ ---         ┆ ---         ┆ ---    ┆ str         │\n",
       "│      ┆              ┆       ┆             ┆   ┆ str         ┆ str         ┆ str    ┆             │\n",
       "╞══════╪══════════════╪═══════╪═════════════╪═══╪═════════════╪═════════════╪════════╪═════════════╡\n",
       "│ null ┆ null         ┆ null  ┆ null        ┆ … ┆ null        ┆ null        ┆ null   ┆ null        │\n",
       "│ 1    ┆ DĄBROWSKI    ┆ 2737  ┆ DĄBROWSKI   ┆ … ┆ 01:12:17.97 ┆ null        ┆ 3:25   ┆ 17.5 (100%) │\n",
       "│      ┆ Przemysław   ┆       ┆ TEAM        ┆   ┆             ┆             ┆        ┆             │\n",
       "│ 2    ┆ GRZEGORZYCA  ┆ 2171  ┆ null        ┆ … ┆ 01:13:32.49 ┆ +00:01:13   ┆ 3:28   ┆ 17.2        │\n",
       "│      ┆ Marcin       ┆       ┆             ┆   ┆             ┆ (1.7%)      ┆        ┆ (98.3%)     │\n",
       "│ 3    ┆ PIELA        ┆ 2475  ┆ MKL CIĘCINA ┆ … ┆ 01:13:33.95 ┆ +00:01:15   ┆ 3:29   ┆ 17.2        │\n",
       "│      ┆ Stanisław    ┆       ┆             ┆   ┆             ┆ (1.7%)      ┆        ┆ (98.3%)     │\n",
       "│ 4    ┆ KOŻDOŃ Jarek ┆ 2834  ┆ TL ROW      ┆ … ┆ 01:13:37.44 ┆ +00:01:18   ┆ 3:29   ┆ 17.2        │\n",
       "│      ┆              ┆       ┆ RYBNIK      ┆   ┆             ┆ (1.8%)      ┆        ┆ (98.3%)     │\n",
       "│ 5    ┆ TESLUK Kuba  ┆ 2626  ┆ AW -        ┆ … ┆ 01:13:41.02 ┆ +00:01:22   ┆ 3:29   ┆ 17.2        │\n",
       "│      ┆              ┆       ┆ SZYBCIEJ -  ┆   ┆             ┆ (1.9%)      ┆        ┆ (98.3%)     │\n",
       "│      ┆              ┆       ┆ TEAM        ┆   ┆             ┆             ┆        ┆             │\n",
       "│ 6    ┆ STEFAŃSKI    ┆ 2585  ┆ null        ┆ … ┆ 01:13:47.11 ┆ +00:01:28   ┆ 3:29   ┆ 17.2        │\n",
       "│      ┆ Dawid        ┆       ┆             ┆   ┆             ┆ (2.0%)      ┆        ┆ (98.3%)     │\n",
       "│ 7    ┆ ŻANDARSKI    ┆ 2729  ┆ DYCZUŚ TEAM ┆ … ┆ 01:14:47.36 ┆ +00:02:32   ┆ 3:32   ┆ 16.9        │\n",
       "│      ┆ Alan         ┆       ┆             ┆   ┆             ┆ (3.4%)      ┆        ┆ (96.6%)     │\n",
       "│ 8    ┆ WOLNIK       ┆ 2689  ┆ -           ┆ … ┆ 01:15:42.07 ┆ +00:03:24   ┆ 3:35   ┆ 16.7        │\n",
       "│      ┆ Mateusz      ┆       ┆             ┆   ┆             ┆ (4.5%)      ┆        ┆ (95.4%)     │\n",
       "│ 9    ┆ NOWAK        ┆ 2426  ┆ NOWAK-TEAM  ┆ … ┆ 01:16:01.33 ┆ +00:03:43   ┆ 3:36   ┆ 16.7        │\n",
       "│      ┆ Andrzej      ┆       ┆             ┆   ┆             ┆ (4.9%)      ┆        ┆ (95.4%)     │\n",
       "└──────┴──────────────┴───────┴─────────────┴───┴─────────────┴─────────────┴────────┴─────────────┘"
      ]
     },
     "execution_count": 8,
     "metadata": {},
     "output_type": "execute_result"
    }
   ],
   "source": [
    "data.head(10)"
   ]
  },
  {
   "cell_type": "markdown",
   "id": "a7c26083-65c8-4dfa-9f2d-b1345a5479b8",
   "metadata": {},
   "source": [
    "## obróbka danych"
   ]
  },
  {
   "cell_type": "code",
   "execution_count": 9,
   "id": "ef315fbd-eb0c-4d0d-9814-7f98f5a039c8",
   "metadata": {},
   "outputs": [],
   "source": [
    "data=data.drop(\"Kraj\",\"Różnica w czasie\",\"Mkat\",\"Czas startu\")\n"
   ]
  },
  {
   "cell_type": "code",
   "execution_count": 10,
   "id": "2c798a64-28d1-40dc-84ec-81205c1f7573",
   "metadata": {},
   "outputs": [],
   "source": [
    "data=data.filter(pl.col(\"Msc\") !=\"Przekroczony limit czasu: 03:00:00\" )"
   ]
  },
  {
   "cell_type": "code",
   "execution_count": 11,
   "id": "729a2729-8172-4159-9d9f-73579b14d993",
   "metadata": {},
   "outputs": [],
   "source": [
    "data=data.filter(pl.col(\"Msc\") !=\"null\" )"
   ]
  },
  {
   "cell_type": "code",
   "execution_count": 12,
   "id": "8fc19c6c-e2ca-4e9c-a5fc-7814cd7dadfd",
   "metadata": {},
   "outputs": [],
   "source": [
    "data=data.filter(pl.col(\"Msc\") !=\"Niesklasyfikowani\" )"
   ]
  },
  {
   "cell_type": "code",
   "execution_count": 13,
   "id": "299574d8-87a4-4af9-8c96-c6938d6505a4",
   "metadata": {
    "scrolled": true
   },
   "outputs": [
    {
     "data": {
      "text/html": [
       "<div><style>\n",
       ".dataframe > thead > tr,\n",
       ".dataframe > tbody > tr {\n",
       "  text-align: right;\n",
       "  white-space: pre-wrap;\n",
       "}\n",
       "</style>\n",
       "<small>shape: (11, 13)</small><table border=\"1\" class=\"dataframe\"><thead><tr><th>Msc</th><th>Zawodnik</th><th>Numer</th><th>Klub</th><th>Miejscowość</th><th>Kategoria</th><th>K/M</th><th>10km</th><th>16.097km</th><th>Czas netto 21.097km</th><th>Czas brutto 21.097km</th><th>Tempo min/km</th><th>Tempo km/h</th></tr><tr><td>str</td><td>str</td><td>str</td><td>str</td><td>str</td><td>str</td><td>str</td><td>str</td><td>str</td><td>str</td><td>str</td><td>str</td><td>str</td></tr></thead><tbody><tr><td>&quot;1&quot;</td><td>&quot;DĄBROWSKI Przemysław&quot;</td><td>&quot;2737&quot;</td><td>&quot;DĄBROWSKI TEAM&quot;</td><td>&quot;SIECHNICE&quot;</td><td>&quot;M-30&quot;</td><td>&quot;M 1&quot;</td><td>&quot;00:33:51&quot;</td><td>&quot;00:54:35&quot;</td><td>&quot;01:12:14.88&quot;</td><td>&quot;01:12:17.97&quot;</td><td>&quot;3:25&quot;</td><td>&quot;17.5 (100%)&quot;</td></tr><tr><td>&quot;2&quot;</td><td>&quot;GRZEGORZYCA Marcin&quot;</td><td>&quot;2171&quot;</td><td>null</td><td>&quot;GIERAŁTOWICE&quot;</td><td>&quot;M-40&quot;</td><td>&quot;M 2&quot;</td><td>&quot;00:34:43&quot;</td><td>&quot;00:55:58&quot;</td><td>&quot;01:13:28.67&quot;</td><td>&quot;01:13:32.49&quot;</td><td>&quot;3:28&quot;</td><td>&quot;17.2 (98.3%)&quot;</td></tr><tr><td>&quot;3&quot;</td><td>&quot;PIELA Stanisław&quot;</td><td>&quot;2475&quot;</td><td>&quot;MKL CIĘCINA&quot;</td><td>&quot;CIĘCINA&quot;</td><td>&quot;M-30&quot;</td><td>&quot;M 3&quot;</td><td>&quot;00:34:41&quot;</td><td>&quot;00:55:58&quot;</td><td>&quot;01:13:30.52&quot;</td><td>&quot;01:13:33.95&quot;</td><td>&quot;3:29&quot;</td><td>&quot;17.2 (98.3%)&quot;</td></tr><tr><td>&quot;4&quot;</td><td>&quot;KOŻDOŃ Jarek&quot;</td><td>&quot;2834&quot;</td><td>&quot;TL ROW RYBNIK&quot;</td><td>&quot;ŻORY&quot;</td><td>&quot;M-40&quot;</td><td>&quot;M 4&quot;</td><td>&quot;00:34:54&quot;</td><td>&quot;00:56:06&quot;</td><td>&quot;01:13:33.43&quot;</td><td>&quot;01:13:37.44&quot;</td><td>&quot;3:29&quot;</td><td>&quot;17.2 (98.3%)&quot;</td></tr><tr><td>&quot;5&quot;</td><td>&quot;TESLUK Kuba&quot;</td><td>&quot;2626&quot;</td><td>&quot;AW - SZYBCIEJ - TEAM&quot;</td><td>&quot;ŻORY&quot;</td><td>&quot;M-30&quot;</td><td>&quot;M 5&quot;</td><td>&quot;00:34:43&quot;</td><td>&quot;00:56:01&quot;</td><td>&quot;01:13:37.37&quot;</td><td>&quot;01:13:41.02&quot;</td><td>&quot;3:29&quot;</td><td>&quot;17.2 (98.3%)&quot;</td></tr><tr><td>&hellip;</td><td>&hellip;</td><td>&hellip;</td><td>&hellip;</td><td>&hellip;</td><td>&hellip;</td><td>&hellip;</td><td>&hellip;</td><td>&hellip;</td><td>&hellip;</td><td>&hellip;</td><td>&hellip;</td><td>&hellip;</td></tr><tr><td>&quot;7&quot;</td><td>&quot;ŻANDARSKI Alan&quot;</td><td>&quot;2729&quot;</td><td>&quot;DYCZUŚ TEAM&quot;</td><td>&quot;POLSKA CEREKIEW&quot;</td><td>&quot;M-30&quot;</td><td>&quot;M 7&quot;</td><td>&quot;00:35:34&quot;</td><td>&quot;00:56:51&quot;</td><td>&quot;01:14:47.15&quot;</td><td>&quot;01:14:47.36&quot;</td><td>&quot;3:32&quot;</td><td>&quot;16.9 (96.6%)&quot;</td></tr><tr><td>&quot;8&quot;</td><td>&quot;WOLNIK Mateusz&quot;</td><td>&quot;2689&quot;</td><td>&quot;-&quot;</td><td>&quot;LYSKI&quot;</td><td>&quot;M-30&quot;</td><td>&quot;M 8&quot;</td><td>&quot;00:35:15&quot;</td><td>&quot;00:57:05&quot;</td><td>&quot;01:15:39.07&quot;</td><td>&quot;01:15:42.07&quot;</td><td>&quot;3:35&quot;</td><td>&quot;16.7 (95.4%)&quot;</td></tr><tr><td>&quot;9&quot;</td><td>&quot;NOWAK Andrzej&quot;</td><td>&quot;2426&quot;</td><td>&quot;NOWAK-TEAM&quot;</td><td>&quot;SOSNOWIEC&quot;</td><td>&quot;M-40&quot;</td><td>&quot;M 9&quot;</td><td>&quot;00:36:02&quot;</td><td>&quot;00:57:50&quot;</td><td>&quot;01:15:58.18&quot;</td><td>&quot;01:16:01.33&quot;</td><td>&quot;3:36&quot;</td><td>&quot;16.7 (95.4%)&quot;</td></tr><tr><td>&quot;10&quot;</td><td>&quot;KUROWSKI Andrew&quot;</td><td>&quot;2314&quot;</td><td>null</td><td>&quot;ŻYWIEC&quot;</td><td>&quot;M-40&quot;</td><td>&quot;M 10&quot;</td><td>&quot;00:36:01&quot;</td><td>&quot;00:57:49&quot;</td><td>&quot;01:16:03.70&quot;</td><td>&quot;01:16:07.09&quot;</td><td>&quot;3:36&quot;</td><td>&quot;16.6 (94.9%)&quot;</td></tr><tr><td>&quot;11&quot;</td><td>&quot;IWANCA Leszek&quot;</td><td>&quot;2199&quot;</td><td>&quot;LEON ZAWODOWIEC&quot;</td><td>&quot;RYBNIK&quot;</td><td>&quot;M-50&quot;</td><td>&quot;M 11&quot;</td><td>&quot;00:37:15&quot;</td><td>&quot;01:00:05&quot;</td><td>&quot;01:19:19.08&quot;</td><td>&quot;01:19:23.59&quot;</td><td>&quot;3:45&quot;</td><td>&quot;16 (91.4%)&quot;</td></tr></tbody></table></div>"
      ],
      "text/plain": [
       "shape: (11, 13)\n",
       "┌─────┬──────────────┬───────┬──────────────┬───┬─────────────┬─────────────┬────────┬─────────────┐\n",
       "│ Msc ┆ Zawodnik     ┆ Numer ┆ Klub         ┆ … ┆ Czas netto  ┆ Czas brutto ┆ Tempo  ┆ Tempo km/h  │\n",
       "│ --- ┆ ---          ┆ ---   ┆ ---          ┆   ┆ 21.097km    ┆ 21.097km    ┆ min/km ┆ ---         │\n",
       "│ str ┆ str          ┆ str   ┆ str          ┆   ┆ ---         ┆ ---         ┆ ---    ┆ str         │\n",
       "│     ┆              ┆       ┆              ┆   ┆ str         ┆ str         ┆ str    ┆             │\n",
       "╞═════╪══════════════╪═══════╪══════════════╪═══╪═════════════╪═════════════╪════════╪═════════════╡\n",
       "│ 1   ┆ DĄBROWSKI    ┆ 2737  ┆ DĄBROWSKI    ┆ … ┆ 01:12:14.88 ┆ 01:12:17.97 ┆ 3:25   ┆ 17.5 (100%) │\n",
       "│     ┆ Przemysław   ┆       ┆ TEAM         ┆   ┆             ┆             ┆        ┆             │\n",
       "│ 2   ┆ GRZEGORZYCA  ┆ 2171  ┆ null         ┆ … ┆ 01:13:28.67 ┆ 01:13:32.49 ┆ 3:28   ┆ 17.2        │\n",
       "│     ┆ Marcin       ┆       ┆              ┆   ┆             ┆             ┆        ┆ (98.3%)     │\n",
       "│ 3   ┆ PIELA        ┆ 2475  ┆ MKL CIĘCINA  ┆ … ┆ 01:13:30.52 ┆ 01:13:33.95 ┆ 3:29   ┆ 17.2        │\n",
       "│     ┆ Stanisław    ┆       ┆              ┆   ┆             ┆             ┆        ┆ (98.3%)     │\n",
       "│ 4   ┆ KOŻDOŃ Jarek ┆ 2834  ┆ TL ROW       ┆ … ┆ 01:13:33.43 ┆ 01:13:37.44 ┆ 3:29   ┆ 17.2        │\n",
       "│     ┆              ┆       ┆ RYBNIK       ┆   ┆             ┆             ┆        ┆ (98.3%)     │\n",
       "│ 5   ┆ TESLUK Kuba  ┆ 2626  ┆ AW -         ┆ … ┆ 01:13:37.37 ┆ 01:13:41.02 ┆ 3:29   ┆ 17.2        │\n",
       "│     ┆              ┆       ┆ SZYBCIEJ -   ┆   ┆             ┆             ┆        ┆ (98.3%)     │\n",
       "│     ┆              ┆       ┆ TEAM         ┆   ┆             ┆             ┆        ┆             │\n",
       "│ …   ┆ …            ┆ …     ┆ …            ┆ … ┆ …           ┆ …           ┆ …      ┆ …           │\n",
       "│ 7   ┆ ŻANDARSKI    ┆ 2729  ┆ DYCZUŚ TEAM  ┆ … ┆ 01:14:47.15 ┆ 01:14:47.36 ┆ 3:32   ┆ 16.9        │\n",
       "│     ┆ Alan         ┆       ┆              ┆   ┆             ┆             ┆        ┆ (96.6%)     │\n",
       "│ 8   ┆ WOLNIK       ┆ 2689  ┆ -            ┆ … ┆ 01:15:39.07 ┆ 01:15:42.07 ┆ 3:35   ┆ 16.7        │\n",
       "│     ┆ Mateusz      ┆       ┆              ┆   ┆             ┆             ┆        ┆ (95.4%)     │\n",
       "│ 9   ┆ NOWAK        ┆ 2426  ┆ NOWAK-TEAM   ┆ … ┆ 01:15:58.18 ┆ 01:16:01.33 ┆ 3:36   ┆ 16.7        │\n",
       "│     ┆ Andrzej      ┆       ┆              ┆   ┆             ┆             ┆        ┆ (95.4%)     │\n",
       "│ 10  ┆ KUROWSKI     ┆ 2314  ┆ null         ┆ … ┆ 01:16:03.70 ┆ 01:16:07.09 ┆ 3:36   ┆ 16.6        │\n",
       "│     ┆ Andrew       ┆       ┆              ┆   ┆             ┆             ┆        ┆ (94.9%)     │\n",
       "│ 11  ┆ IWANCA       ┆ 2199  ┆ LEON         ┆ … ┆ 01:19:19.08 ┆ 01:19:23.59 ┆ 3:45   ┆ 16 (91.4%)  │\n",
       "│     ┆ Leszek       ┆       ┆ ZAWODOWIEC   ┆   ┆             ┆             ┆        ┆             │\n",
       "└─────┴──────────────┴───────┴──────────────┴───┴─────────────┴─────────────┴────────┴─────────────┘"
      ]
     },
     "execution_count": 13,
     "metadata": {},
     "output_type": "execute_result"
    }
   ],
   "source": [
    "data.head(11)"
   ]
  },
  {
   "cell_type": "markdown",
   "id": "954c1e84-b409-423d-9b3e-317c2a45ab53",
   "metadata": {},
   "source": [
    "**zamiana formatu czasu**"
   ]
  },
  {
   "cell_type": "code",
   "execution_count": 14,
   "id": "e197c2cb-63b4-4300-bd62-97368e36d75a",
   "metadata": {},
   "outputs": [],
   "source": [
    "def time_to_minutes(time_str):\n",
    "    if \".\" in time_str:\n",
    "        time_str, fractional = time_str.split(\".\")\n",
    "        fractional = float(f\"0.{fractional}\")\n",
    "    else:\n",
    "        fractional = 0.0\n",
    "\n",
    "    parts = list(map(int, time_str.split(\":\")))\n",
    "    hours = parts[0] if len(parts) == 3 else 0\n",
    "    minutes, seconds = parts[-2], parts[-1]\n",
    "\n",
    "    return hours * 60 + minutes + (seconds + fractional) / 60\n"
   ]
  },
  {
   "cell_type": "code",
   "execution_count": 15,
   "id": "5138dfc3-7454-4ced-9c34-42d29b7a8ad5",
   "metadata": {},
   "outputs": [],
   "source": [
    "def pace_to_minutes(pace_str):\n",
    "    # Rozdzielenie minut i sekund\n",
    "    if \":\" in pace_str:\n",
    "        minutes, seconds = map(float, pace_str.split(\":\"))\n",
    "    return minutes + seconds / 60\n"
   ]
  },
  {
   "cell_type": "markdown",
   "id": "90f0bcab-fd11-4823-bfc2-3b82556e88a4",
   "metadata": {},
   "source": [
    "**początkowo wszystkie zmienne były typu string, teraz przekształcamy je na inne**"
   ]
  },
  {
   "cell_type": "code",
   "execution_count": 16,
   "id": "71bb0c17-d033-4555-b132-eb8d03cf9379",
   "metadata": {
    "scrolled": true
   },
   "outputs": [],
   "source": [
    "data = data.with_columns([\n",
    " \n",
    " pl.col(\"10km\").map_elements(time_to_minutes, return_dtype=pl.Float64).alias(\"10km\"),\n",
    "    pl.col(\"16.097km\").map_elements(time_to_minutes, return_dtype=pl.Float64).alias(\"16.097km\"),\n",
    "    pl.col(\"Czas netto 21.097km\").map_elements(time_to_minutes, return_dtype=pl.Float64).alias(\"Czas netto 21.097km\"),\n",
    "    pl.col(\"Czas brutto 21.097km\").map_elements(time_to_minutes, return_dtype=pl.Float64).alias(\"Czas brutto 21.097km\"),\n",
    "    pl.col(\"Tempo min/km\").map_elements(pace_to_minutes, return_dtype=pl.Float64).alias(\"Tempo min/km\"),\n",
    "    pl.col(\"Msc\").cast(pl.Int32).alias(\"Msc\"),\n",
    "    pl.col(\"Numer\").cast(pl.Int32).alias(\"Numer\"),\n",
    "    pl.col(\"Tempo km/h\")\n",
    "    .str.extract(r\"(\\d+(\\.\\d+)?)\")  # Wyszukujemy zarówno liczby całkowite, jak i zmiennoprzecinkowe\n",
    "    .cast(pl.Float64)\n",
    "    .alias(\"Tempo km/h\"),\n",
    "])"
   ]
  },
  {
   "cell_type": "code",
   "execution_count": 17,
   "id": "b2f85ea0-09dc-4871-ae9d-f10b8dccf5ba",
   "metadata": {
    "scrolled": true
   },
   "outputs": [
    {
     "data": {
      "text/html": [
       "<div><style>\n",
       ".dataframe > thead > tr,\n",
       ".dataframe > tbody > tr {\n",
       "  text-align: right;\n",
       "  white-space: pre-wrap;\n",
       "}\n",
       "</style>\n",
       "<small>shape: (759, 13)</small><table border=\"1\" class=\"dataframe\"><thead><tr><th>Msc</th><th>Zawodnik</th><th>Numer</th><th>Klub</th><th>Miejscowość</th><th>Kategoria</th><th>K/M</th><th>10km</th><th>16.097km</th><th>Czas netto 21.097km</th><th>Czas brutto 21.097km</th><th>Tempo min/km</th><th>Tempo km/h</th></tr><tr><td>i32</td><td>str</td><td>i32</td><td>str</td><td>str</td><td>str</td><td>str</td><td>f64</td><td>f64</td><td>f64</td><td>f64</td><td>f64</td><td>f64</td></tr></thead><tbody><tr><td>1</td><td>&quot;DĄBROWSKI Przemysław&quot;</td><td>2737</td><td>&quot;DĄBROWSKI TEAM&quot;</td><td>&quot;SIECHNICE&quot;</td><td>&quot;M-30&quot;</td><td>&quot;M 1&quot;</td><td>33.85</td><td>54.583333</td><td>72.248</td><td>72.2995</td><td>3.416667</td><td>17.5</td></tr><tr><td>2</td><td>&quot;GRZEGORZYCA Marcin&quot;</td><td>2171</td><td>null</td><td>&quot;GIERAŁTOWICE&quot;</td><td>&quot;M-40&quot;</td><td>&quot;M 2&quot;</td><td>34.716667</td><td>55.966667</td><td>73.477833</td><td>73.5415</td><td>3.466667</td><td>17.2</td></tr><tr><td>3</td><td>&quot;PIELA Stanisław&quot;</td><td>2475</td><td>&quot;MKL CIĘCINA&quot;</td><td>&quot;CIĘCINA&quot;</td><td>&quot;M-30&quot;</td><td>&quot;M 3&quot;</td><td>34.683333</td><td>55.966667</td><td>73.508667</td><td>73.565833</td><td>3.483333</td><td>17.2</td></tr><tr><td>4</td><td>&quot;KOŻDOŃ Jarek&quot;</td><td>2834</td><td>&quot;TL ROW RYBNIK&quot;</td><td>&quot;ŻORY&quot;</td><td>&quot;M-40&quot;</td><td>&quot;M 4&quot;</td><td>34.9</td><td>56.1</td><td>73.557167</td><td>73.624</td><td>3.483333</td><td>17.2</td></tr><tr><td>5</td><td>&quot;TESLUK Kuba&quot;</td><td>2626</td><td>&quot;AW - SZYBCIEJ - TEAM&quot;</td><td>&quot;ŻORY&quot;</td><td>&quot;M-30&quot;</td><td>&quot;M 5&quot;</td><td>34.716667</td><td>56.016667</td><td>73.622833</td><td>73.683667</td><td>3.483333</td><td>17.2</td></tr><tr><td>&hellip;</td><td>&hellip;</td><td>&hellip;</td><td>&hellip;</td><td>&hellip;</td><td>&hellip;</td><td>&hellip;</td><td>&hellip;</td><td>&hellip;</td><td>&hellip;</td><td>&hellip;</td><td>&hellip;</td><td>&hellip;</td></tr><tr><td>755</td><td>&quot;RUTKA Wiola&quot;</td><td>2534</td><td>null</td><td>&quot;GLIWICE&quot;</td><td>&quot;K-40&quot;</td><td>&quot;K 174&quot;</td><td>85.483333</td><td>142.9</td><td>191.160833</td><td>192.432833</td><td>9.05</td><td>6.6</td></tr><tr><td>756</td><td>&quot;PILARSKI Arkadiusz&quot;</td><td>2482</td><td>null</td><td>&quot;GLIWICE&quot;</td><td>&quot;M-30&quot;</td><td>&quot;M 582&quot;</td><td>85.466667</td><td>142.9</td><td>191.162</td><td>192.432833</td><td>9.05</td><td>6.6</td></tr><tr><td>757</td><td>&quot;PINIŁO Wojciech&quot;</td><td>2826</td><td>&quot;PRYWATNY BIEG SZACHTA 2024R&quot;</td><td>&quot;GLIWICE&quot;</td><td>&quot;M-60&quot;</td><td>&quot;M 583&quot;</td><td>87.883333</td><td>145.433333</td><td>194.578667</td><td>194.637167</td><td>9.216667</td><td>6.5</td></tr><tr><td>758</td><td>&quot;KONIECZNY Łukasz&quot;</td><td>2268</td><td>null</td><td>&quot;RUDA ŚLĄSKA&quot;</td><td>&quot;M-20&quot;</td><td>&quot;M 584&quot;</td><td>64.583333</td><td>132.45</td><td>201.206167</td><td>202.174167</td><td>9.533333</td><td>6.3</td></tr><tr><td>759</td><td>&quot;CIURAJ Marek&quot;</td><td>2089</td><td>null</td><td>&quot;BEŁSZNICA&quot;</td><td>&quot;M-40&quot;</td><td>&quot;M 585&quot;</td><td>64.766667</td><td>103.466667</td><td>null</td><td>null</td><td>6.416667</td><td>9.3</td></tr></tbody></table></div>"
      ],
      "text/plain": [
       "shape: (759, 13)\n",
       "┌─────┬─────────────┬───────┬─────────────┬───┬─────────────┬────────────┬────────────┬────────────┐\n",
       "│ Msc ┆ Zawodnik    ┆ Numer ┆ Klub        ┆ … ┆ Czas netto  ┆ Czas       ┆ Tempo      ┆ Tempo km/h │\n",
       "│ --- ┆ ---         ┆ ---   ┆ ---         ┆   ┆ 21.097km    ┆ brutto     ┆ min/km     ┆ ---        │\n",
       "│ i32 ┆ str         ┆ i32   ┆ str         ┆   ┆ ---         ┆ 21.097km   ┆ ---        ┆ f64        │\n",
       "│     ┆             ┆       ┆             ┆   ┆ f64         ┆ ---        ┆ f64        ┆            │\n",
       "│     ┆             ┆       ┆             ┆   ┆             ┆ f64        ┆            ┆            │\n",
       "╞═════╪═════════════╪═══════╪═════════════╪═══╪═════════════╪════════════╪════════════╪════════════╡\n",
       "│ 1   ┆ DĄBROWSKI   ┆ 2737  ┆ DĄBROWSKI   ┆ … ┆ 72.248      ┆ 72.2995    ┆ 3.416667   ┆ 17.5       │\n",
       "│     ┆ Przemysław  ┆       ┆ TEAM        ┆   ┆             ┆            ┆            ┆            │\n",
       "│ 2   ┆ GRZEGORZYCA ┆ 2171  ┆ null        ┆ … ┆ 73.477833   ┆ 73.5415    ┆ 3.466667   ┆ 17.2       │\n",
       "│     ┆ Marcin      ┆       ┆             ┆   ┆             ┆            ┆            ┆            │\n",
       "│ 3   ┆ PIELA       ┆ 2475  ┆ MKL CIĘCINA ┆ … ┆ 73.508667   ┆ 73.565833  ┆ 3.483333   ┆ 17.2       │\n",
       "│     ┆ Stanisław   ┆       ┆             ┆   ┆             ┆            ┆            ┆            │\n",
       "│ 4   ┆ KOŻDOŃ      ┆ 2834  ┆ TL ROW      ┆ … ┆ 73.557167   ┆ 73.624     ┆ 3.483333   ┆ 17.2       │\n",
       "│     ┆ Jarek       ┆       ┆ RYBNIK      ┆   ┆             ┆            ┆            ┆            │\n",
       "│ 5   ┆ TESLUK Kuba ┆ 2626  ┆ AW -        ┆ … ┆ 73.622833   ┆ 73.683667  ┆ 3.483333   ┆ 17.2       │\n",
       "│     ┆             ┆       ┆ SZYBCIEJ -  ┆   ┆             ┆            ┆            ┆            │\n",
       "│     ┆             ┆       ┆ TEAM        ┆   ┆             ┆            ┆            ┆            │\n",
       "│ …   ┆ …           ┆ …     ┆ …           ┆ … ┆ …           ┆ …          ┆ …          ┆ …          │\n",
       "│ 755 ┆ RUTKA Wiola ┆ 2534  ┆ null        ┆ … ┆ 191.160833  ┆ 192.432833 ┆ 9.05       ┆ 6.6        │\n",
       "│ 756 ┆ PILARSKI    ┆ 2482  ┆ null        ┆ … ┆ 191.162     ┆ 192.432833 ┆ 9.05       ┆ 6.6        │\n",
       "│     ┆ Arkadiusz   ┆       ┆             ┆   ┆             ┆            ┆            ┆            │\n",
       "│ 757 ┆ PINIŁO      ┆ 2826  ┆ PRYWATNY    ┆ … ┆ 194.578667  ┆ 194.637167 ┆ 9.216667   ┆ 6.5        │\n",
       "│     ┆ Wojciech    ┆       ┆ BIEG        ┆   ┆             ┆            ┆            ┆            │\n",
       "│     ┆             ┆       ┆ SZACHTA     ┆   ┆             ┆            ┆            ┆            │\n",
       "│     ┆             ┆       ┆ 2024R       ┆   ┆             ┆            ┆            ┆            │\n",
       "│ 758 ┆ KONIECZNY   ┆ 2268  ┆ null        ┆ … ┆ 201.206167  ┆ 202.174167 ┆ 9.533333   ┆ 6.3        │\n",
       "│     ┆ Łukasz      ┆       ┆             ┆   ┆             ┆            ┆            ┆            │\n",
       "│ 759 ┆ CIURAJ      ┆ 2089  ┆ null        ┆ … ┆ null        ┆ null       ┆ 6.416667   ┆ 9.3        │\n",
       "│     ┆ Marek       ┆       ┆             ┆   ┆             ┆            ┆            ┆            │\n",
       "└─────┴─────────────┴───────┴─────────────┴───┴─────────────┴────────────┴────────────┴────────────┘"
      ]
     },
     "execution_count": 17,
     "metadata": {},
     "output_type": "execute_result"
    }
   ],
   "source": [
    "data"
   ]
  },
  {
   "cell_type": "code",
   "execution_count": null,
   "id": "78ef055d-ec10-47d4-8f09-c5197e8f81cf",
   "metadata": {},
   "outputs": [],
   "source": []
  },
  {
   "cell_type": "markdown",
   "id": "fd7119ad-e244-4b07-8602-be5b686d2798",
   "metadata": {},
   "source": [
    "## Analiza danych"
   ]
  },
  {
   "cell_type": "markdown",
   "id": "6b3c9d8d-8f68-4e29-911a-a0b7873b7cc5",
   "metadata": {},
   "source": [
    "**podział danych na ze względu na płeć**"
   ]
  },
  {
   "cell_type": "code",
   "execution_count": 18,
   "id": "05ec8f31-81c2-4832-9b03-df2bc8a34938",
   "metadata": {},
   "outputs": [],
   "source": [
    "women_data = data.filter(pl.col(\"K/M\").str.contains(\"K\"))"
   ]
  },
  {
   "cell_type": "code",
   "execution_count": 19,
   "id": "6587273d-69bb-4b7c-a1b3-ca6aca535270",
   "metadata": {},
   "outputs": [],
   "source": [
    "men_data= data.filter(pl.col(\"K/M\").str.contains(\"M\"))"
   ]
  },
  {
   "cell_type": "code",
   "execution_count": 20,
   "id": "84a49405-970f-43c4-9601-ad98f5725be6",
   "metadata": {},
   "outputs": [
    {
     "name": "stdout",
     "output_type": "stream",
     "text": [
      "Ilość mężczyzn: 585\n",
      "Liczba kobiet: 174\n"
     ]
    },
    {
     "data": {
      "image/png": "[encoded data removed]",
      "text/plain": [
       "<Figure size 640x480 with 1 Axes>"
      ]
     },
     "metadata": {},
     "output_type": "display_data"
    }
   ],
   "source": [
    "men_count = men_data.shape[0]\n",
    "women_count = women_data.shape[0]\n",
    "\n",
    "labels = ['Mężczyźni', 'Kobiety']\n",
    "counts = [men_count, women_count]\n",
    "\n",
    "plt.pie(counts, labels=labels, autopct='%1.1f%%', colors=['blue', 'orange'], startangle=90)\n",
    "plt.title('Porównanie liczby mężczyzn i kobiet')\n",
    "\n",
    "print(f\"Ilość mężczyzn: {men_count}\")\n",
    "print(f\"Liczba kobiet: {women_count}\")\n",
    "\n",
    "plt.show()\n"
   ]
  },
  {
   "cell_type": "markdown",
   "id": "e3b9e9f0-c12e-457e-8ae8-9a484eb8f467",
   "metadata": {},
   "source": [
    "**najszybsi zawodnicy ogółem**"
   ]
  },
  {
   "cell_type": "code",
   "execution_count": 21,
   "id": "e8ea4dbf-2e05-45f3-9cc2-98db505604bb",
   "metadata": {},
   "outputs": [],
   "source": [
    "top_10=data.head(10)"
   ]
  },
  {
   "cell_type": "code",
   "execution_count": 22,
   "id": "5023bfd7-0d2e-4bf1-b665-178a3526c3be",
   "metadata": {},
   "outputs": [
    {
     "data": {
      "text/html": [
       "<div><style>\n",
       ".dataframe > thead > tr,\n",
       ".dataframe > tbody > tr {\n",
       "  text-align: right;\n",
       "  white-space: pre-wrap;\n",
       "}\n",
       "</style>\n",
       "<small>shape: (10, 13)</small><table border=\"1\" class=\"dataframe\"><thead><tr><th>Msc</th><th>Zawodnik</th><th>Numer</th><th>Klub</th><th>Miejscowość</th><th>Kategoria</th><th>K/M</th><th>10km</th><th>16.097km</th><th>Czas netto 21.097km</th><th>Czas brutto 21.097km</th><th>Tempo min/km</th><th>Tempo km/h</th></tr><tr><td>i32</td><td>str</td><td>i32</td><td>str</td><td>str</td><td>str</td><td>str</td><td>f64</td><td>f64</td><td>f64</td><td>f64</td><td>f64</td><td>f64</td></tr></thead><tbody><tr><td>1</td><td>&quot;DĄBROWSKI Przemysław&quot;</td><td>2737</td><td>&quot;DĄBROWSKI TEAM&quot;</td><td>&quot;SIECHNICE&quot;</td><td>&quot;M-30&quot;</td><td>&quot;M 1&quot;</td><td>33.85</td><td>54.583333</td><td>72.248</td><td>72.2995</td><td>3.416667</td><td>17.5</td></tr><tr><td>2</td><td>&quot;GRZEGORZYCA Marcin&quot;</td><td>2171</td><td>null</td><td>&quot;GIERAŁTOWICE&quot;</td><td>&quot;M-40&quot;</td><td>&quot;M 2&quot;</td><td>34.716667</td><td>55.966667</td><td>73.477833</td><td>73.5415</td><td>3.466667</td><td>17.2</td></tr><tr><td>3</td><td>&quot;PIELA Stanisław&quot;</td><td>2475</td><td>&quot;MKL CIĘCINA&quot;</td><td>&quot;CIĘCINA&quot;</td><td>&quot;M-30&quot;</td><td>&quot;M 3&quot;</td><td>34.683333</td><td>55.966667</td><td>73.508667</td><td>73.565833</td><td>3.483333</td><td>17.2</td></tr><tr><td>4</td><td>&quot;KOŻDOŃ Jarek&quot;</td><td>2834</td><td>&quot;TL ROW RYBNIK&quot;</td><td>&quot;ŻORY&quot;</td><td>&quot;M-40&quot;</td><td>&quot;M 4&quot;</td><td>34.9</td><td>56.1</td><td>73.557167</td><td>73.624</td><td>3.483333</td><td>17.2</td></tr><tr><td>5</td><td>&quot;TESLUK Kuba&quot;</td><td>2626</td><td>&quot;AW - SZYBCIEJ - TEAM&quot;</td><td>&quot;ŻORY&quot;</td><td>&quot;M-30&quot;</td><td>&quot;M 5&quot;</td><td>34.716667</td><td>56.016667</td><td>73.622833</td><td>73.683667</td><td>3.483333</td><td>17.2</td></tr><tr><td>6</td><td>&quot;STEFAŃSKI Dawid&quot;</td><td>2585</td><td>null</td><td>&quot;WROCŁAW&quot;</td><td>&quot;M-30&quot;</td><td>&quot;M 6&quot;</td><td>34.716667</td><td>55.983333</td><td>73.727333</td><td>73.785167</td><td>3.483333</td><td>17.2</td></tr><tr><td>7</td><td>&quot;ŻANDARSKI Alan&quot;</td><td>2729</td><td>&quot;DYCZUŚ TEAM&quot;</td><td>&quot;POLSKA CEREKIEW&quot;</td><td>&quot;M-30&quot;</td><td>&quot;M 7&quot;</td><td>35.566667</td><td>56.85</td><td>74.785833</td><td>74.789333</td><td>3.533333</td><td>16.9</td></tr><tr><td>8</td><td>&quot;WOLNIK Mateusz&quot;</td><td>2689</td><td>&quot;-&quot;</td><td>&quot;LYSKI&quot;</td><td>&quot;M-30&quot;</td><td>&quot;M 8&quot;</td><td>35.25</td><td>57.083333</td><td>75.651167</td><td>75.701167</td><td>3.583333</td><td>16.7</td></tr><tr><td>9</td><td>&quot;NOWAK Andrzej&quot;</td><td>2426</td><td>&quot;NOWAK-TEAM&quot;</td><td>&quot;SOSNOWIEC&quot;</td><td>&quot;M-40&quot;</td><td>&quot;M 9&quot;</td><td>36.033333</td><td>57.833333</td><td>75.969667</td><td>76.022167</td><td>3.6</td><td>16.7</td></tr><tr><td>10</td><td>&quot;KUROWSKI Andrew&quot;</td><td>2314</td><td>null</td><td>&quot;ŻYWIEC&quot;</td><td>&quot;M-40&quot;</td><td>&quot;M 10&quot;</td><td>36.016667</td><td>57.816667</td><td>76.061667</td><td>76.118167</td><td>3.6</td><td>16.6</td></tr></tbody></table></div>"
      ],
      "text/plain": [
       "shape: (10, 13)\n",
       "┌─────┬─────────────┬───────┬─────────────┬───┬─────────────┬────────────┬────────────┬────────────┐\n",
       "│ Msc ┆ Zawodnik    ┆ Numer ┆ Klub        ┆ … ┆ Czas netto  ┆ Czas       ┆ Tempo      ┆ Tempo km/h │\n",
       "│ --- ┆ ---         ┆ ---   ┆ ---         ┆   ┆ 21.097km    ┆ brutto     ┆ min/km     ┆ ---        │\n",
       "│ i32 ┆ str         ┆ i32   ┆ str         ┆   ┆ ---         ┆ 21.097km   ┆ ---        ┆ f64        │\n",
       "│     ┆             ┆       ┆             ┆   ┆ f64         ┆ ---        ┆ f64        ┆            │\n",
       "│     ┆             ┆       ┆             ┆   ┆             ┆ f64        ┆            ┆            │\n",
       "╞═════╪═════════════╪═══════╪═════════════╪═══╪═════════════╪════════════╪════════════╪════════════╡\n",
       "│ 1   ┆ DĄBROWSKI   ┆ 2737  ┆ DĄBROWSKI   ┆ … ┆ 72.248      ┆ 72.2995    ┆ 3.416667   ┆ 17.5       │\n",
       "│     ┆ Przemysław  ┆       ┆ TEAM        ┆   ┆             ┆            ┆            ┆            │\n",
       "│ 2   ┆ GRZEGORZYCA ┆ 2171  ┆ null        ┆ … ┆ 73.477833   ┆ 73.5415    ┆ 3.466667   ┆ 17.2       │\n",
       "│     ┆ Marcin      ┆       ┆             ┆   ┆             ┆            ┆            ┆            │\n",
       "│ 3   ┆ PIELA       ┆ 2475  ┆ MKL CIĘCINA ┆ … ┆ 73.508667   ┆ 73.565833  ┆ 3.483333   ┆ 17.2       │\n",
       "│     ┆ Stanisław   ┆       ┆             ┆   ┆             ┆            ┆            ┆            │\n",
       "│ 4   ┆ KOŻDOŃ      ┆ 2834  ┆ TL ROW      ┆ … ┆ 73.557167   ┆ 73.624     ┆ 3.483333   ┆ 17.2       │\n",
       "│     ┆ Jarek       ┆       ┆ RYBNIK      ┆   ┆             ┆            ┆            ┆            │\n",
       "│ 5   ┆ TESLUK Kuba ┆ 2626  ┆ AW -        ┆ … ┆ 73.622833   ┆ 73.683667  ┆ 3.483333   ┆ 17.2       │\n",
       "│     ┆             ┆       ┆ SZYBCIEJ -  ┆   ┆             ┆            ┆            ┆            │\n",
       "│     ┆             ┆       ┆ TEAM        ┆   ┆             ┆            ┆            ┆            │\n",
       "│ 6   ┆ STEFAŃSKI   ┆ 2585  ┆ null        ┆ … ┆ 73.727333   ┆ 73.785167  ┆ 3.483333   ┆ 17.2       │\n",
       "│     ┆ Dawid       ┆       ┆             ┆   ┆             ┆            ┆            ┆            │\n",
       "│ 7   ┆ ŻANDARSKI   ┆ 2729  ┆ DYCZUŚ TEAM ┆ … ┆ 74.785833   ┆ 74.789333  ┆ 3.533333   ┆ 16.9       │\n",
       "│     ┆ Alan        ┆       ┆             ┆   ┆             ┆            ┆            ┆            │\n",
       "│ 8   ┆ WOLNIK      ┆ 2689  ┆ -           ┆ … ┆ 75.651167   ┆ 75.701167  ┆ 3.583333   ┆ 16.7       │\n",
       "│     ┆ Mateusz     ┆       ┆             ┆   ┆             ┆            ┆            ┆            │\n",
       "│ 9   ┆ NOWAK       ┆ 2426  ┆ NOWAK-TEAM  ┆ … ┆ 75.969667   ┆ 76.022167  ┆ 3.6        ┆ 16.7       │\n",
       "│     ┆ Andrzej     ┆       ┆             ┆   ┆             ┆            ┆            ┆            │\n",
       "│ 10  ┆ KUROWSKI    ┆ 2314  ┆ null        ┆ … ┆ 76.061667   ┆ 76.118167  ┆ 3.6        ┆ 16.6       │\n",
       "│     ┆ Andrew      ┆       ┆             ┆   ┆             ┆            ┆            ┆            │\n",
       "└─────┴─────────────┴───────┴─────────────┴───┴─────────────┴────────────┴────────────┴────────────┘"
      ]
     },
     "execution_count": 22,
     "metadata": {},
     "output_type": "execute_result"
    }
   ],
   "source": [
    "top_10"
   ]
  },
  {
   "cell_type": "markdown",
   "id": "4c573d22-c37e-4f91-a33d-d67f78c4dcb5",
   "metadata": {},
   "source": [
    "**najszybsze kobiety**"
   ]
  },
  {
   "cell_type": "code",
   "execution_count": 23,
   "id": "e6a23866-1d1a-49f4-a321-81639f32b06d",
   "metadata": {},
   "outputs": [
    {
     "data": {
      "text/html": [
       "<div><style>\n",
       ".dataframe > thead > tr,\n",
       ".dataframe > tbody > tr {\n",
       "  text-align: right;\n",
       "  white-space: pre-wrap;\n",
       "}\n",
       "</style>\n",
       "<small>shape: (10, 13)</small><table border=\"1\" class=\"dataframe\"><thead><tr><th>Msc</th><th>Zawodnik</th><th>Numer</th><th>Klub</th><th>Miejscowość</th><th>Kategoria</th><th>K/M</th><th>10km</th><th>16.097km</th><th>Czas netto 21.097km</th><th>Czas brutto 21.097km</th><th>Tempo min/km</th><th>Tempo km/h</th></tr><tr><td>i32</td><td>str</td><td>i32</td><td>str</td><td>str</td><td>str</td><td>str</td><td>f64</td><td>f64</td><td>f64</td><td>f64</td><td>f64</td><td>f64</td></tr></thead><tbody><tr><td>23</td><td>&quot;TULEJA Aleksandra&quot;</td><td>2640</td><td>&quot;LIGOTA TEAM&quot;</td><td>&quot;KATOWICE&quot;</td><td>&quot;K-30&quot;</td><td>&quot;K 1&quot;</td><td>41.066667</td><td>66.016667</td><td>86.599833</td><td>86.721667</td><td>4.1</td><td>14.6</td></tr><tr><td>25</td><td>&quot;BROL Dominika&quot;</td><td>2058</td><td>null</td><td>&quot;SIEMIANOWICE&quot;</td><td>&quot;K-30&quot;</td><td>&quot;K 2&quot;</td><td>41.35</td><td>66.333333</td><td>87.088</td><td>87.223667</td><td>4.116667</td><td>14.5</td></tr><tr><td>43</td><td>&quot;SZEWCZYK Urszula&quot;</td><td>2793</td><td>&quot;AUGUSTEAM&quot;</td><td>&quot;KATOWICE&quot;</td><td>&quot;K-50&quot;</td><td>&quot;K 3&quot;</td><td>42.35</td><td>68.283333</td><td>89.985833</td><td>90.094833</td><td>4.25</td><td>14.1</td></tr><tr><td>100</td><td>&quot;BRANDSTÄTTER Grazyna&quot;</td><td>2057</td><td>&quot;TRIRUN LINZ&quot;</td><td>&quot;LINZ&quot;</td><td>&quot;K-40&quot;</td><td>&quot;K 4&quot;</td><td>46.666667</td><td>74.266667</td><td>97.606</td><td>97.764333</td><td>4.616667</td><td>13.0</td></tr><tr><td>101</td><td>&quot;MUSIALIK Magdalena&quot;</td><td>2409</td><td>&quot;RZESZOWSKIE GAZELE I GEPARDY&quot;</td><td>&quot;RZESZÓW&quot;</td><td>&quot;K-40&quot;</td><td>&quot;K 5&quot;</td><td>46.133333</td><td>74.116667</td><td>97.7285</td><td>97.964833</td><td>4.616667</td><td>13.0</td></tr><tr><td>133</td><td>&quot;DĄBROWSKA Julia&quot;</td><td>2782</td><td>null</td><td>&quot;ŁAŃCE&quot;</td><td>&quot;K-20&quot;</td><td>&quot;K 6&quot;</td><td>46.716667</td><td>75.616667</td><td>99.924833</td><td>100.504833</td><td>4.733333</td><td>12.7</td></tr><tr><td>141</td><td>&quot;STANEK Katarzyna&quot;</td><td>2579</td><td>null</td><td>&quot;TARNOWSKIE GÓRY&quot;</td><td>&quot;K-20&quot;</td><td>&quot;K 7&quot;</td><td>47.9</td><td>76.633333</td><td>100.374</td><td>100.9505</td><td>4.75</td><td>12.6</td></tr><tr><td>147</td><td>&quot;WIGLUSZ Katarzyna&quot;</td><td>2810</td><td>null</td><td>&quot;NARAMA&quot;</td><td>&quot;K-30&quot;</td><td>&quot;K 8&quot;</td><td>48.616667</td><td>77.233333</td><td>101.295667</td><td>101.622</td><td>4.8</td><td>12.5</td></tr><tr><td>150</td><td>&quot;KOBRYŃ-KRÓL Małgorzata&quot;</td><td>2253</td><td>null</td><td>&quot;ZABRZE&quot;</td><td>&quot;K-40&quot;</td><td>&quot;K 9&quot;</td><td>47.716667</td><td>76.833333</td><td>101.455167</td><td>102.091333</td><td>4.8</td><td>12.5</td></tr><tr><td>155</td><td>&quot;BAR Agata&quot;</td><td>2012</td><td>&quot;LECYMY DURŚ&quot;</td><td>&quot;PIEKARY ŚLĄSKIE&quot;</td><td>&quot;K-40&quot;</td><td>&quot;K 10&quot;</td><td>48.583333</td><td>77.716667</td><td>101.975</td><td>104.117833</td><td>4.816667</td><td>12.4</td></tr></tbody></table></div>"
      ],
      "text/plain": [
       "shape: (10, 13)\n",
       "┌─────┬─────────────┬───────┬─────────────┬───┬─────────────┬────────────┬────────────┬────────────┐\n",
       "│ Msc ┆ Zawodnik    ┆ Numer ┆ Klub        ┆ … ┆ Czas netto  ┆ Czas       ┆ Tempo      ┆ Tempo km/h │\n",
       "│ --- ┆ ---         ┆ ---   ┆ ---         ┆   ┆ 21.097km    ┆ brutto     ┆ min/km     ┆ ---        │\n",
       "│ i32 ┆ str         ┆ i32   ┆ str         ┆   ┆ ---         ┆ 21.097km   ┆ ---        ┆ f64        │\n",
       "│     ┆             ┆       ┆             ┆   ┆ f64         ┆ ---        ┆ f64        ┆            │\n",
       "│     ┆             ┆       ┆             ┆   ┆             ┆ f64        ┆            ┆            │\n",
       "╞═════╪═════════════╪═══════╪═════════════╪═══╪═════════════╪════════════╪════════════╪════════════╡\n",
       "│ 23  ┆ TULEJA      ┆ 2640  ┆ LIGOTA TEAM ┆ … ┆ 86.599833   ┆ 86.721667  ┆ 4.1        ┆ 14.6       │\n",
       "│     ┆ Aleksandra  ┆       ┆             ┆   ┆             ┆            ┆            ┆            │\n",
       "│ 25  ┆ BROL        ┆ 2058  ┆ null        ┆ … ┆ 87.088      ┆ 87.223667  ┆ 4.116667   ┆ 14.5       │\n",
       "│     ┆ Dominika    ┆       ┆             ┆   ┆             ┆            ┆            ┆            │\n",
       "│ 43  ┆ SZEWCZYK    ┆ 2793  ┆ AUGUSTEAM   ┆ … ┆ 89.985833   ┆ 90.094833  ┆ 4.25       ┆ 14.1       │\n",
       "│     ┆ Urszula     ┆       ┆             ┆   ┆             ┆            ┆            ┆            │\n",
       "│ 100 ┆ BRANDSTÄTTE ┆ 2057  ┆ TRIRUN LINZ ┆ … ┆ 97.606      ┆ 97.764333  ┆ 4.616667   ┆ 13.0       │\n",
       "│     ┆ R Grazyna   ┆       ┆             ┆   ┆             ┆            ┆            ┆            │\n",
       "│ 101 ┆ MUSIALIK    ┆ 2409  ┆ RZESZOWSKIE ┆ … ┆ 97.7285     ┆ 97.964833  ┆ 4.616667   ┆ 13.0       │\n",
       "│     ┆ Magdalena   ┆       ┆ GAZELE I    ┆   ┆             ┆            ┆            ┆            │\n",
       "│     ┆             ┆       ┆ GEPARDY     ┆   ┆             ┆            ┆            ┆            │\n",
       "│ 133 ┆ DĄBROWSKA   ┆ 2782  ┆ null        ┆ … ┆ 99.924833   ┆ 100.504833 ┆ 4.733333   ┆ 12.7       │\n",
       "│     ┆ Julia       ┆       ┆             ┆   ┆             ┆            ┆            ┆            │\n",
       "│ 141 ┆ STANEK      ┆ 2579  ┆ null        ┆ … ┆ 100.374     ┆ 100.9505   ┆ 4.75       ┆ 12.6       │\n",
       "│     ┆ Katarzyna   ┆       ┆             ┆   ┆             ┆            ┆            ┆            │\n",
       "│ 147 ┆ WIGLUSZ     ┆ 2810  ┆ null        ┆ … ┆ 101.295667  ┆ 101.622    ┆ 4.8        ┆ 12.5       │\n",
       "│     ┆ Katarzyna   ┆       ┆             ┆   ┆             ┆            ┆            ┆            │\n",
       "│ 150 ┆ KOBRYŃ-KRÓL ┆ 2253  ┆ null        ┆ … ┆ 101.455167  ┆ 102.091333 ┆ 4.8        ┆ 12.5       │\n",
       "│     ┆ Małgorzata  ┆       ┆             ┆   ┆             ┆            ┆            ┆            │\n",
       "│ 155 ┆ BAR Agata   ┆ 2012  ┆ LECYMY DURŚ ┆ … ┆ 101.975     ┆ 104.117833 ┆ 4.816667   ┆ 12.4       │\n",
       "└─────┴─────────────┴───────┴─────────────┴───┴─────────────┴────────────┴────────────┴────────────┘"
      ]
     },
     "execution_count": 23,
     "metadata": {},
     "output_type": "execute_result"
    }
   ],
   "source": [
    "women_data.head(10)"
   ]
  },
  {
   "cell_type": "markdown",
   "id": "2b5f7be4-eee3-4d7b-9018-fa3dcb5de90b",
   "metadata": {},
   "source": [
    "**X Gliwicki Półmaraton ukończyły również osoby niepełnosprawne**"
   ]
  },
  {
   "cell_type": "code",
   "execution_count": 24,
   "id": "2a6633eb-bc61-4251-ac6d-a7f524eec642",
   "metadata": {},
   "outputs": [],
   "source": [
    "men_disabled= men_data.filter(pl.col(\"Kategoria\").str.contains(\"Niepełnosprawni\"))"
   ]
  },
  {
   "cell_type": "code",
   "execution_count": 25,
   "id": "c088eaa7-5658-4588-860b-0a887217d0c2",
   "metadata": {},
   "outputs": [
    {
     "data": {
      "text/html": [
       "<div><style>\n",
       ".dataframe > thead > tr,\n",
       ".dataframe > tbody > tr {\n",
       "  text-align: right;\n",
       "  white-space: pre-wrap;\n",
       "}\n",
       "</style>\n",
       "<small>shape: (2, 13)</small><table border=\"1\" class=\"dataframe\"><thead><tr><th>Msc</th><th>Zawodnik</th><th>Numer</th><th>Klub</th><th>Miejscowość</th><th>Kategoria</th><th>K/M</th><th>10km</th><th>16.097km</th><th>Czas netto 21.097km</th><th>Czas brutto 21.097km</th><th>Tempo min/km</th><th>Tempo km/h</th></tr><tr><td>i32</td><td>str</td><td>i32</td><td>str</td><td>str</td><td>str</td><td>str</td><td>f64</td><td>f64</td><td>f64</td><td>f64</td><td>f64</td><td>f64</td></tr></thead><tbody><tr><td>654</td><td>&quot;WĘGIEL Damian&quot;</td><td>2658</td><td>&quot;GROTA&quot;</td><td>&quot;GLIWICE&quot;</td><td>&quot;Niepełnosprawni M&quot;</td><td>&quot;M 523&quot;</td><td>59.933333</td><td>100.716667</td><td>136.218833</td><td>136.528</td><td>6.45</td><td>9.3</td></tr><tr><td>754</td><td>&quot;KAPICKI Jan&quot;</td><td>2774</td><td>null</td><td>&quot;MYSŁOWICE&quot;</td><td>&quot;Niepełnosprawni M&quot;</td><td>&quot;M 581&quot;</td><td>81.05</td><td>133.8</td><td>179.100333</td><td>179.422167</td><td>8.483333</td><td>7.1</td></tr></tbody></table></div>"
      ],
      "text/plain": [
       "shape: (2, 13)\n",
       "┌─────┬──────────────┬───────┬───────┬───┬──────────────┬──────────────┬──────────────┬────────────┐\n",
       "│ Msc ┆ Zawodnik     ┆ Numer ┆ Klub  ┆ … ┆ Czas netto   ┆ Czas brutto  ┆ Tempo min/km ┆ Tempo km/h │\n",
       "│ --- ┆ ---          ┆ ---   ┆ ---   ┆   ┆ 21.097km     ┆ 21.097km     ┆ ---          ┆ ---        │\n",
       "│ i32 ┆ str          ┆ i32   ┆ str   ┆   ┆ ---          ┆ ---          ┆ f64          ┆ f64        │\n",
       "│     ┆              ┆       ┆       ┆   ┆ f64          ┆ f64          ┆              ┆            │\n",
       "╞═════╪══════════════╪═══════╪═══════╪═══╪══════════════╪══════════════╪══════════════╪════════════╡\n",
       "│ 654 ┆ WĘGIEL       ┆ 2658  ┆ GROTA ┆ … ┆ 136.218833   ┆ 136.528      ┆ 6.45         ┆ 9.3        │\n",
       "│     ┆ Damian       ┆       ┆       ┆   ┆              ┆              ┆              ┆            │\n",
       "│ 754 ┆ KAPICKI Jan  ┆ 2774  ┆ null  ┆ … ┆ 179.100333   ┆ 179.422167   ┆ 8.483333     ┆ 7.1        │\n",
       "└─────┴──────────────┴───────┴───────┴───┴──────────────┴──────────────┴──────────────┴────────────┘"
      ]
     },
     "execution_count": 25,
     "metadata": {},
     "output_type": "execute_result"
    }
   ],
   "source": [
    "men_disabled"
   ]
  },
  {
   "cell_type": "code",
   "execution_count": 26,
   "id": "1faf7f58-cdd7-402d-b742-1f7ad4314159",
   "metadata": {},
   "outputs": [],
   "source": [
    "women_disabled=women_data.filter(pl.col(\"Kategoria\").str.contains(\"Niepełnosprawni\"))"
   ]
  },
  {
   "cell_type": "code",
   "execution_count": 27,
   "id": "0d8daf31-0ea7-47ea-83f1-5c3bdbcb21e4",
   "metadata": {},
   "outputs": [
    {
     "data": {
      "text/plain": [
       "0"
      ]
     },
     "execution_count": 27,
     "metadata": {},
     "output_type": "execute_result"
    }
   ],
   "source": [
    "women_disabled.shape[0]"
   ]
  },
  {
   "cell_type": "code",
   "execution_count": null,
   "id": "19ac6c19-3ab8-42b4-9a8d-a40ce30ae5dc",
   "metadata": {},
   "outputs": [],
   "source": []
  },
  {
   "cell_type": "markdown",
   "id": "b15e0427-93ec-46dc-bda2-c5019cbae682",
   "metadata": {},
   "source": [
    "**zawodnicy, którzy dobiegli do mety lecz nie zmieścili się w limice czasu - 3h**"
   ]
  },
  {
   "cell_type": "code",
   "execution_count": 28,
   "id": "205b0c90-5b08-48e6-a8f5-2ed73fb6cc4a",
   "metadata": {},
   "outputs": [],
   "source": [
    "above_3h= data.filter(pl.col(\"Czas netto 21.097km\")>180)"
   ]
  },
  {
   "cell_type": "code",
   "execution_count": 29,
   "id": "b098c915-9b29-4fad-b19c-37972ee17543",
   "metadata": {},
   "outputs": [
    {
     "data": {
      "text/html": [
       "<div><style>\n",
       ".dataframe > thead > tr,\n",
       ".dataframe > tbody > tr {\n",
       "  text-align: right;\n",
       "  white-space: pre-wrap;\n",
       "}\n",
       "</style>\n",
       "<small>shape: (4, 13)</small><table border=\"1\" class=\"dataframe\"><thead><tr><th>Msc</th><th>Zawodnik</th><th>Numer</th><th>Klub</th><th>Miejscowość</th><th>Kategoria</th><th>K/M</th><th>10km</th><th>16.097km</th><th>Czas netto 21.097km</th><th>Czas brutto 21.097km</th><th>Tempo min/km</th><th>Tempo km/h</th></tr><tr><td>i32</td><td>str</td><td>i32</td><td>str</td><td>str</td><td>str</td><td>str</td><td>f64</td><td>f64</td><td>f64</td><td>f64</td><td>f64</td><td>f64</td></tr></thead><tbody><tr><td>755</td><td>&quot;RUTKA Wiola&quot;</td><td>2534</td><td>null</td><td>&quot;GLIWICE&quot;</td><td>&quot;K-40&quot;</td><td>&quot;K 174&quot;</td><td>85.483333</td><td>142.9</td><td>191.160833</td><td>192.432833</td><td>9.05</td><td>6.6</td></tr><tr><td>756</td><td>&quot;PILARSKI Arkadiusz&quot;</td><td>2482</td><td>null</td><td>&quot;GLIWICE&quot;</td><td>&quot;M-30&quot;</td><td>&quot;M 582&quot;</td><td>85.466667</td><td>142.9</td><td>191.162</td><td>192.432833</td><td>9.05</td><td>6.6</td></tr><tr><td>757</td><td>&quot;PINIŁO Wojciech&quot;</td><td>2826</td><td>&quot;PRYWATNY BIEG SZACHTA 2024R&quot;</td><td>&quot;GLIWICE&quot;</td><td>&quot;M-60&quot;</td><td>&quot;M 583&quot;</td><td>87.883333</td><td>145.433333</td><td>194.578667</td><td>194.637167</td><td>9.216667</td><td>6.5</td></tr><tr><td>758</td><td>&quot;KONIECZNY Łukasz&quot;</td><td>2268</td><td>null</td><td>&quot;RUDA ŚLĄSKA&quot;</td><td>&quot;M-20&quot;</td><td>&quot;M 584&quot;</td><td>64.583333</td><td>132.45</td><td>201.206167</td><td>202.174167</td><td>9.533333</td><td>6.3</td></tr></tbody></table></div>"
      ],
      "text/plain": [
       "shape: (4, 13)\n",
       "┌─────┬─────────────┬───────┬─────────────┬───┬─────────────┬────────────┬────────────┬────────────┐\n",
       "│ Msc ┆ Zawodnik    ┆ Numer ┆ Klub        ┆ … ┆ Czas netto  ┆ Czas       ┆ Tempo      ┆ Tempo km/h │\n",
       "│ --- ┆ ---         ┆ ---   ┆ ---         ┆   ┆ 21.097km    ┆ brutto     ┆ min/km     ┆ ---        │\n",
       "│ i32 ┆ str         ┆ i32   ┆ str         ┆   ┆ ---         ┆ 21.097km   ┆ ---        ┆ f64        │\n",
       "│     ┆             ┆       ┆             ┆   ┆ f64         ┆ ---        ┆ f64        ┆            │\n",
       "│     ┆             ┆       ┆             ┆   ┆             ┆ f64        ┆            ┆            │\n",
       "╞═════╪═════════════╪═══════╪═════════════╪═══╪═════════════╪════════════╪════════════╪════════════╡\n",
       "│ 755 ┆ RUTKA Wiola ┆ 2534  ┆ null        ┆ … ┆ 191.160833  ┆ 192.432833 ┆ 9.05       ┆ 6.6        │\n",
       "│ 756 ┆ PILARSKI    ┆ 2482  ┆ null        ┆ … ┆ 191.162     ┆ 192.432833 ┆ 9.05       ┆ 6.6        │\n",
       "│     ┆ Arkadiusz   ┆       ┆             ┆   ┆             ┆            ┆            ┆            │\n",
       "│ 757 ┆ PINIŁO      ┆ 2826  ┆ PRYWATNY    ┆ … ┆ 194.578667  ┆ 194.637167 ┆ 9.216667   ┆ 6.5        │\n",
       "│     ┆ Wojciech    ┆       ┆ BIEG        ┆   ┆             ┆            ┆            ┆            │\n",
       "│     ┆             ┆       ┆ SZACHTA     ┆   ┆             ┆            ┆            ┆            │\n",
       "│     ┆             ┆       ┆ 2024R       ┆   ┆             ┆            ┆            ┆            │\n",
       "│ 758 ┆ KONIECZNY   ┆ 2268  ┆ null        ┆ … ┆ 201.206167  ┆ 202.174167 ┆ 9.533333   ┆ 6.3        │\n",
       "│     ┆ Łukasz      ┆       ┆             ┆   ┆             ┆            ┆            ┆            │\n",
       "└─────┴─────────────┴───────┴─────────────┴───┴─────────────┴────────────┴────────────┴────────────┘"
      ]
     },
     "execution_count": 29,
     "metadata": {},
     "output_type": "execute_result"
    }
   ],
   "source": [
    "above_3h"
   ]
  },
  {
   "cell_type": "markdown",
   "id": "bbce7192-f29e-47c8-8270-0e2ba664cb22",
   "metadata": {},
   "source": [
    "**Jednej osobie niestety nie udało się ukończyć biegu**"
   ]
  },
  {
   "cell_type": "code",
   "execution_count": 30,
   "id": "fb5770ec-6b53-49b7-8b35-63296a4ea3ef",
   "metadata": {},
   "outputs": [
    {
     "data": {
      "text/html": [
       "<div><style>\n",
       ".dataframe > thead > tr,\n",
       ".dataframe > tbody > tr {\n",
       "  text-align: right;\n",
       "  white-space: pre-wrap;\n",
       "}\n",
       "</style>\n",
       "<small>shape: (1, 13)</small><table border=\"1\" class=\"dataframe\"><thead><tr><th>Msc</th><th>Zawodnik</th><th>Numer</th><th>Klub</th><th>Miejscowość</th><th>Kategoria</th><th>K/M</th><th>10km</th><th>16.097km</th><th>Czas netto 21.097km</th><th>Czas brutto 21.097km</th><th>Tempo min/km</th><th>Tempo km/h</th></tr><tr><td>i32</td><td>str</td><td>i32</td><td>str</td><td>str</td><td>str</td><td>str</td><td>f64</td><td>f64</td><td>f64</td><td>f64</td><td>f64</td><td>f64</td></tr></thead><tbody><tr><td>759</td><td>&quot;CIURAJ Marek&quot;</td><td>2089</td><td>null</td><td>&quot;BEŁSZNICA&quot;</td><td>&quot;M-40&quot;</td><td>&quot;M 585&quot;</td><td>64.766667</td><td>103.466667</td><td>null</td><td>null</td><td>6.416667</td><td>9.3</td></tr></tbody></table></div>"
      ],
      "text/plain": [
       "shape: (1, 13)\n",
       "┌─────┬──────────────┬───────┬──────┬───┬───────────────┬──────────────┬──────────────┬────────────┐\n",
       "│ Msc ┆ Zawodnik     ┆ Numer ┆ Klub ┆ … ┆ Czas netto    ┆ Czas brutto  ┆ Tempo min/km ┆ Tempo km/h │\n",
       "│ --- ┆ ---          ┆ ---   ┆ ---  ┆   ┆ 21.097km      ┆ 21.097km     ┆ ---          ┆ ---        │\n",
       "│ i32 ┆ str          ┆ i32   ┆ str  ┆   ┆ ---           ┆ ---          ┆ f64          ┆ f64        │\n",
       "│     ┆              ┆       ┆      ┆   ┆ f64           ┆ f64          ┆              ┆            │\n",
       "╞═════╪══════════════╪═══════╪══════╪═══╪═══════════════╪══════════════╪══════════════╪════════════╡\n",
       "│ 759 ┆ CIURAJ Marek ┆ 2089  ┆ null ┆ … ┆ null          ┆ null         ┆ 6.416667     ┆ 9.3        │\n",
       "└─────┴──────────────┴───────┴──────┴───┴───────────────┴──────────────┴──────────────┴────────────┘"
      ]
     },
     "execution_count": 30,
     "metadata": {},
     "output_type": "execute_result"
    }
   ],
   "source": [
    "\n",
    "null_netto = data.filter(pl.col(\"Czas netto 21.097km\").is_null())\n",
    "null_netto\n"
   ]
  },
  {
   "cell_type": "markdown",
   "id": "794a812b-0d28-4c9a-9c60-b98d258d3d70",
   "metadata": {},
   "source": [
    "**wizualizacja kształtowania się pozycji najszybszych 10 mężczyzn**"
   ]
  },
  {
   "cell_type": "code",
   "execution_count": 31,
   "id": "2928efe0-eba2-4f02-8893-0281221010b0",
   "metadata": {},
   "outputs": [
    {
     "data": {
      "application/vnd.plotly.v1+json": {
       "config": {
        "plotlyServerURL": "https://plot.ly"
       },
       "data": [
        {
         "hoverinfo": "text",
         "mode": "lines+markers",
         "name": "DĄBROWSKI Przemysław",
         "text": [
          "DĄBROWSKI Przemysław, miejsce ogólne na 10km: 1",
          "DĄBROWSKI Przemysław, miejsce ogólne na 16km: 1",
          "DĄBROWSKI Przemysław, miejsce ogólne na 21km: 1"
         ],
         "type": "scatter",
         "x": [
          10,
          16,
          21
         ],
         "y": [
          33.85,
          54.583333333333336,
          72.248
         ]
        },
        {
         "hoverinfo": "text",
         "mode": "lines+markers",
         "name": "GRZEGORZYCA Marcin",
         "text": [
          "GRZEGORZYCA Marcin, miejsce ogólne na 10km: 4",
          "GRZEGORZYCA Marcin, miejsce ogólne na 16km: 2",
          "GRZEGORZYCA Marcin, miejsce ogólne na 21km: 2"
         ],
         "type": "scatter",
         "x": [
          10,
          16,
          21
         ],
         "y": [
          34.71666666666667,
          55.96666666666667,
          73.47783333333334
         ]
        },
        {
         "hoverinfo": "text",
         "mode": "lines+markers",
         "name": "PIELA Stanisław",
         "text": [
          "PIELA Stanisław, miejsce ogólne na 10km: 2",
          "PIELA Stanisław, miejsce ogólne na 16km: 2",
          "PIELA Stanisław, miejsce ogólne na 21km: 3"
         ],
         "type": "scatter",
         "x": [
          10,
          16,
          21
         ],
         "y": [
          34.68333333333333,
          55.96666666666667,
          73.50866666666667
         ]
        },
        {
         "hoverinfo": "text",
         "mode": "lines+markers",
         "name": "KOŻDOŃ Jarek",
         "text": [
          "KOŻDOŃ Jarek, miejsce ogólne na 10km: 6",
          "KOŻDOŃ Jarek, miejsce ogólne na 16km: 6",
          "KOŻDOŃ Jarek, miejsce ogólne na 21km: 4"
         ],
         "type": "scatter",
         "x": [
          10,
          16,
          21
         ],
         "y": [
          34.9,
          56.1,
          73.55716666666666
         ]
        },
        {
         "hoverinfo": "text",
         "mode": "lines+markers",
         "name": "TESLUK Kuba",
         "text": [
          "TESLUK Kuba, miejsce ogólne na 10km: 4",
          "TESLUK Kuba, miejsce ogólne na 16km: 5",
          "TESLUK Kuba, miejsce ogólne na 21km: 5"
         ],
         "type": "scatter",
         "x": [
          10,
          16,
          21
         ],
         "y": [
          34.71666666666667,
          56.016666666666666,
          73.62283333333333
         ]
        },
        {
         "hoverinfo": "text",
         "mode": "lines+markers",
         "name": "STEFAŃSKI Dawid",
         "text": [
          "STEFAŃSKI Dawid, miejsce ogólne na 10km: 4",
          "STEFAŃSKI Dawid, miejsce ogólne na 16km: 4",
          "STEFAŃSKI Dawid, miejsce ogólne na 21km: 6"
         ],
         "type": "scatter",
         "x": [
          10,
          16,
          21
         ],
         "y": [
          34.71666666666667,
          55.983333333333334,
          73.72733333333333
         ]
        },
        {
         "hoverinfo": "text",
         "mode": "lines+markers",
         "name": "ŻANDARSKI Alan",
         "text": [
          "ŻANDARSKI Alan, miejsce ogólne na 10km: 8",
          "ŻANDARSKI Alan, miejsce ogólne na 16km: 7",
          "ŻANDARSKI Alan, miejsce ogólne na 21km: 7"
         ],
         "type": "scatter",
         "x": [
          10,
          16,
          21
         ],
         "y": [
          35.56666666666667,
          56.85,
          74.78583333333333
         ]
        },
        {
         "hoverinfo": "text",
         "mode": "lines+markers",
         "name": "WOLNIK Mateusz",
         "text": [
          "WOLNIK Mateusz, miejsce ogólne na 10km: 7",
          "WOLNIK Mateusz, miejsce ogólne na 16km: 8",
          "WOLNIK Mateusz, miejsce ogólne na 21km: 8"
         ],
         "type": "scatter",
         "x": [
          10,
          16,
          21
         ],
         "y": [
          35.25,
          57.083333333333336,
          75.65116666666667
         ]
        },
        {
         "hoverinfo": "text",
         "mode": "lines+markers",
         "name": "NOWAK Andrzej",
         "text": [
          "NOWAK Andrzej, miejsce ogólne na 10km: 10",
          "NOWAK Andrzej, miejsce ogólne na 16km: 10",
          "NOWAK Andrzej, miejsce ogólne na 21km: 9"
         ],
         "type": "scatter",
         "x": [
          10,
          16,
          21
         ],
         "y": [
          36.03333333333333,
          57.833333333333336,
          75.96966666666667
         ]
        },
        {
         "hoverinfo": "text",
         "mode": "lines+markers",
         "name": "KUROWSKI Andrew",
         "text": [
          "KUROWSKI Andrew, miejsce ogólne na 10km: 9",
          "KUROWSKI Andrew, miejsce ogólne na 16km: 9",
          "KUROWSKI Andrew, miejsce ogólne na 21km: 10"
         ],
         "type": "scatter",
         "x": [
          10,
          16,
          21
         ],
         "y": [
          36.016666666666666,
          57.81666666666667,
          76.06166666666667
         ]
        }
       ],
       "layout": {
        "height": 800,
        "legend": {
         "title": {
          "text": "Zawodnik"
         }
        },
        "template": {
         "data": {
          "bar": [
           {
            "error_x": {
             "color": "#2a3f5f"
            },
            "error_y": {
             "color": "#2a3f5f"
            },
            "marker": {
             "line": {
              "color": "white",
              "width": 0.5
             },
             "pattern": {
              "fillmode": "overlay",
              "size": 10,
              "solidity": 0.2
             }
            },
            "type": "bar"
           }
          ],
          "barpolar": [
           {
            "marker": {
             "line": {
              "color": "white",
              "width": 0.5
             },
             "pattern": {
              "fillmode": "overlay",
              "size": 10,
              "solidity": 0.2
             }
            },
            "type": "barpolar"
           }
          ],
          "carpet": [
           {
            "aaxis": {
             "endlinecolor": "#2a3f5f",
             "gridcolor": "#C8D4E3",
             "linecolor": "#C8D4E3",
             "minorgridcolor": "#C8D4E3",
             "startlinecolor": "#2a3f5f"
            },
            "baxis": {
             "endlinecolor": "#2a3f5f",
             "gridcolor": "#C8D4E3",
             "linecolor": "#C8D4E3",
             "minorgridcolor": "#C8D4E3",
             "startlinecolor": "#2a3f5f"
            },
            "type": "carpet"
           }
          ],
          "choropleth": [
           {
            "colorbar": {
             "outlinewidth": 0,
             "ticks": ""
            },
            "type": "choropleth"
           }
          ],
          "contour": [
           {
            "colorbar": {
             "outlinewidth": 0,
             "ticks": ""
            },
            "colorscale": [
             [
              0,
              "#0d0887"
             ],
             [
              0.1111111111111111,
              "#46039f"
             ],
             [
              0.2222222222222222,
              "#7201a8"
             ],
             [
              0.3333333333333333,
              "#9c179e"
             ],
             [
              0.4444444444444444,
              "#bd3786"
             ],
             [
              0.5555555555555556,
              "#d8576b"
             ],
             [
              0.6666666666666666,
              "#ed7953"
             ],
             [
              0.7777777777777778,
              "#fb9f3a"
             ],
             [
              0.8888888888888888,
              "#fdca26"
             ],
             [
              1,
              "#f0f921"
             ]
            ],
            "type": "contour"
           }
          ],
          "contourcarpet": [
           {
            "colorbar": {
             "outlinewidth": 0,
             "ticks": ""
            },
            "type": "contourcarpet"
           }
          ],
          "heatmap": [
           {
            "colorbar": {
             "outlinewidth": 0,
             "ticks": ""
            },
            "colorscale": [
             [
              0,
              "#0d0887"
             ],
             [
              0.1111111111111111,
              "#46039f"
             ],
             [
              0.2222222222222222,
              "#7201a8"
             ],
             [
              0.3333333333333333,
              "#9c179e"
             ],
             [
              0.4444444444444444,
              "#bd3786"
             ],
             [
              0.5555555555555556,
              "#d8576b"
             ],
             [
              0.6666666666666666,
              "#ed7953"
             ],
             [
              0.7777777777777778,
              "#fb9f3a"
             ],
             [
              0.8888888888888888,
              "#fdca26"
             ],
             [
              1,
              "#f0f921"
             ]
            ],
            "type": "heatmap"
           }
          ],
          "histogram": [
           {
            "marker": {
             "pattern": {
              "fillmode": "overlay",
              "size": 10,
              "solidity": 0.2
             }
            },
            "type": "histogram"
           }
          ],
          "histogram2d": [
           {
            "colorbar": {
             "outlinewidth": 0,
             "ticks": ""
            },
            "colorscale": [
             [
              0,
              "#0d0887"
             ],
             [
              0.1111111111111111,
              "#46039f"
             ],
             [
              0.2222222222222222,
              "#7201a8"
             ],
             [
              0.3333333333333333,
              "#9c179e"
             ],
             [
              0.4444444444444444,
              "#bd3786"
             ],
             [
              0.5555555555555556,
              "#d8576b"
             ],
             [
              0.6666666666666666,
              "#ed7953"
             ],
             [
              0.7777777777777778,
              "#fb9f3a"
             ],
             [
              0.8888888888888888,
              "#fdca26"
             ],
             [
              1,
              "#f0f921"
             ]
            ],
            "type": "histogram2d"
           }
          ],
          "histogram2dcontour": [
           {
            "colorbar": {
             "outlinewidth": 0,
             "ticks": ""
            },
            "colorscale": [
             [
              0,
              "#0d0887"
             ],
             [
              0.1111111111111111,
              "#46039f"
             ],
             [
              0.2222222222222222,
              "#7201a8"
             ],
             [
              0.3333333333333333,
              "#9c179e"
             ],
             [
              0.4444444444444444,
              "#bd3786"
             ],
             [
              0.5555555555555556,
              "#d8576b"
             ],
             [
              0.6666666666666666,
              "#ed7953"
             ],
             [
              0.7777777777777778,
              "#fb9f3a"
             ],
             [
              0.8888888888888888,
              "#fdca26"
             ],
             [
              1,
              "#f0f921"
             ]
            ],
            "type": "histogram2dcontour"
           }
          ],
          "mesh3d": [
           {
            "colorbar": {
             "outlinewidth": 0,
             "ticks": ""
            },
            "type": "mesh3d"
           }
          ],
          "parcoords": [
           {
            "line": {
             "colorbar": {
              "outlinewidth": 0,
              "ticks": ""
             }
            },
            "type": "parcoords"
           }
          ],
          "pie": [
           {
            "automargin": true,
            "type": "pie"
           }
          ],
          "scatter": [
           {
            "fillpattern": {
             "fillmode": "overlay",
             "size": 10,
             "solidity": 0.2
            },
            "type": "scatter"
           }
          ],
          "scatter3d": [
           {
            "line": {
             "colorbar": {
              "outlinewidth": 0,
              "ticks": ""
             }
            },
            "marker": {
             "colorbar": {
              "outlinewidth": 0,
              "ticks": ""
             }
            },
            "type": "scatter3d"
           }
          ],
          "scattercarpet": [
           {
            "marker": {
             "colorbar": {
              "outlinewidth": 0,
              "ticks": ""
             }
            },
            "type": "scattercarpet"
           }
          ],
          "scattergeo": [
           {
            "marker": {
             "colorbar": {
              "outlinewidth": 0,
              "ticks": ""
             }
            },
            "type": "scattergeo"
           }
          ],
          "scattergl": [
           {
            "marker": {
             "colorbar": {
              "outlinewidth": 0,
              "ticks": ""
             }
            },
            "type": "scattergl"
           }
          ],
          "scattermap": [
           {
            "marker": {
             "colorbar": {
              "outlinewidth": 0,
              "ticks": ""
             }
            },
            "type": "scattermap"
           }
          ],
          "scattermapbox": [
           {
            "marker": {
             "colorbar": {
              "outlinewidth": 0,
              "ticks": ""
             }
            },
            "type": "scattermapbox"
           }
          ],
          "scatterpolar": [
           {
            "marker": {
             "colorbar": {
              "outlinewidth": 0,
              "ticks": ""
             }
            },
            "type": "scatterpolar"
           }
          ],
          "scatterpolargl": [
           {
            "marker": {
             "colorbar": {
              "outlinewidth": 0,
              "ticks": ""
             }
            },
            "type": "scatterpolargl"
           }
          ],
          "scatterternary": [
           {
            "marker": {
             "colorbar": {
              "outlinewidth": 0,
              "ticks": ""
             }
            },
            "type": "scatterternary"
           }
          ],
          "surface": [
           {
            "colorbar": {
             "outlinewidth": 0,
             "ticks": ""
            },
            "colorscale": [
             [
              0,
              "#0d0887"
             ],
             [
              0.1111111111111111,
              "#46039f"
             ],
             [
              0.2222222222222222,
              "#7201a8"
             ],
             [
              0.3333333333333333,
              "#9c179e"
             ],
             [
              0.4444444444444444,
              "#bd3786"
             ],
             [
              0.5555555555555556,
              "#d8576b"
             ],
             [
              0.6666666666666666,
              "#ed7953"
             ],
             [
              0.7777777777777778,
              "#fb9f3a"
             ],
             [
              0.8888888888888888,
              "#fdca26"
             ],
             [
              1,
              "#f0f921"
             ]
            ],
            "type": "surface"
           }
          ],
          "table": [
           {
            "cells": {
             "fill": {
              "color": "#EBF0F8"
             },
             "line": {
              "color": "white"
             }
            },
            "header": {
             "fill": {
              "color": "#C8D4E3"
             },
             "line": {
              "color": "white"
             }
            },
            "type": "table"
           }
          ]
         },
         "layout": {
          "annotationdefaults": {
           "arrowcolor": "#2a3f5f",
           "arrowhead": 0,
           "arrowwidth": 1
          },
          "autotypenumbers": "strict",
          "coloraxis": {
           "colorbar": {
            "outlinewidth": 0,
            "ticks": ""
           }
          },
          "colorscale": {
           "diverging": [
            [
             0,
             "#8e0152"
            ],
            [
             0.1,
             "#c51b7d"
            ],
            [
             0.2,
             "#de77ae"
            ],
            [
             0.3,
             "#f1b6da"
            ],
            [
             0.4,
             "#fde0ef"
            ],
            [
             0.5,
             "#f7f7f7"
            ],
            [
             0.6,
             "#e6f5d0"
            ],
            [
             0.7,
             "#b8e186"
            ],
            [
             0.8,
             "#7fbc41"
            ],
            [
             0.9,
             "#4d9221"
            ],
            [
             1,
             "#276419"
            ]
           ],
           "sequential": [
            [
             0,
             "#0d0887"
            ],
            [
             0.1111111111111111,
             "#46039f"
            ],
            [
             0.2222222222222222,
             "#7201a8"
            ],
            [
             0.3333333333333333,
             "#9c179e"
            ],
            [
             0.4444444444444444,
             "#bd3786"
            ],
            [
             0.5555555555555556,
             "#d8576b"
            ],
            [
             0.6666666666666666,
             "#ed7953"
            ],
            [
             0.7777777777777778,
             "#fb9f3a"
            ],
            [
             0.8888888888888888,
             "#fdca26"
            ],
            [
             1,
             "#f0f921"
            ]
           ],
           "sequentialminus": [
            [
             0,
             "#0d0887"
            ],
            [
             0.1111111111111111,
             "#46039f"
            ],
            [
             0.2222222222222222,
             "#7201a8"
            ],
            [
             0.3333333333333333,
             "#9c179e"
            ],
            [
             0.4444444444444444,
             "#bd3786"
            ],
            [
             0.5555555555555556,
             "#d8576b"
            ],
            [
             0.6666666666666666,
             "#ed7953"
            ],
            [
             0.7777777777777778,
             "#fb9f3a"
            ],
            [
             0.8888888888888888,
             "#fdca26"
            ],
            [
             1,
             "#f0f921"
            ]
           ]
          },
          "colorway": [
           "#636efa",
           "#EF553B",
           "#00cc96",
           "#ab63fa",
           "#FFA15A",
           "#19d3f3",
           "#FF6692",
           "#B6E880",
           "#FF97FF",
           "#FECB52"
          ],
          "font": {
           "color": "#2a3f5f"
          },
          "geo": {
           "bgcolor": "white",
           "lakecolor": "white",
           "landcolor": "white",
           "showlakes": true,
           "showland": true,
           "subunitcolor": "#C8D4E3"
          },
          "hoverlabel": {
           "align": "left"
          },
          "hovermode": "closest",
          "mapbox": {
           "style": "light"
          },
          "paper_bgcolor": "white",
          "plot_bgcolor": "white",
          "polar": {
           "angularaxis": {
            "gridcolor": "#EBF0F8",
            "linecolor": "#EBF0F8",
            "ticks": ""
           },
           "bgcolor": "white",
           "radialaxis": {
            "gridcolor": "#EBF0F8",
            "linecolor": "#EBF0F8",
            "ticks": ""
           }
          },
          "scene": {
           "xaxis": {
            "backgroundcolor": "white",
            "gridcolor": "#DFE8F3",
            "gridwidth": 2,
            "linecolor": "#EBF0F8",
            "showbackground": true,
            "ticks": "",
            "zerolinecolor": "#EBF0F8"
           },
           "yaxis": {
            "backgroundcolor": "white",
            "gridcolor": "#DFE8F3",
            "gridwidth": 2,
            "linecolor": "#EBF0F8",
            "showbackground": true,
            "ticks": "",
            "zerolinecolor": "#EBF0F8"
           },
           "zaxis": {
            "backgroundcolor": "white",
            "gridcolor": "#DFE8F3",
            "gridwidth": 2,
            "linecolor": "#EBF0F8",
            "showbackground": true,
            "ticks": "",
            "zerolinecolor": "#EBF0F8"
           }
          },
          "shapedefaults": {
           "line": {
            "color": "#2a3f5f"
           }
          },
          "ternary": {
           "aaxis": {
            "gridcolor": "#DFE8F3",
            "linecolor": "#A2B1C6",
            "ticks": ""
           },
           "baxis": {
            "gridcolor": "#DFE8F3",
            "linecolor": "#A2B1C6",
            "ticks": ""
           },
           "bgcolor": "white",
           "caxis": {
            "gridcolor": "#DFE8F3",
            "linecolor": "#A2B1C6",
            "ticks": ""
           }
          },
          "title": {
           "x": 0.05
          },
          "xaxis": {
           "automargin": true,
           "gridcolor": "#EBF0F8",
           "linecolor": "#EBF0F8",
           "ticks": "",
           "title": {
            "standoff": 15
           },
           "zerolinecolor": "#EBF0F8",
           "zerolinewidth": 2
          },
          "yaxis": {
           "automargin": true,
           "gridcolor": "#EBF0F8",
           "linecolor": "#EBF0F8",
           "ticks": "",
           "title": {
            "standoff": 15
           },
           "zerolinecolor": "#EBF0F8",
           "zerolinewidth": 2
          }
         }
        },
        "title": {
         "text": "Czasy najlepszych zawodników na dystansach 10 km, 16 km i 21 km (z miejscem w klasyfikacji ogólnej)"
        },
        "width": 1100,
        "xaxis": {
         "ticktext": [
          "10 km",
          "16 km",
          "21 km"
         ],
         "tickvals": [
          10,
          16,
          21
         ],
         "title": {
          "text": "Dystans (km)"
         }
        },
        "yaxis": {
         "title": {
          "text": "Czas (minuty)"
         }
        }
       }
      }
     },
     "metadata": {},
     "output_type": "display_data"
    }
   ],
   "source": [
    "import plotly.graph_objects as go\n",
    "\n",
    "# Usunięcie nulli z kolumn 10km, 16.097km, i Czas netto 21.097km\n",
    "data_cleaned = data.drop_nulls([\"10km\", \"16.097km\", \"Czas netto 21.097km\"])\n",
    "\n",
    "# Obliczenie miejsc po każdym dystansie w ogólnej klasyfikacji\n",
    "data_cleaned = data_cleaned.with_columns([\n",
    "    pl.col(\"10km\").rank().alias(\"Miejsce po 10km\"),\n",
    "    pl.col(\"16.097km\").rank().alias(\"Miejsce po 16km\"),\n",
    "    pl.col(\"Czas netto 21.097km\").rank().alias(\"Miejsce po 21km\")\n",
    "])\n",
    "\n",
    "top_10_final = data_cleaned.sort(\"Czas netto 21.097km\").head(10)\n",
    "\n",
    "# Przygotowanie danych do wykresu\n",
    "zawodnicy = top_10_final[\"Zawodnik\"].to_list()\n",
    "czasy_10km = data_cleaned[\"10km\"].to_list()\n",
    "czasy_16km = data_cleaned[\"16.097km\"].to_list()\n",
    "czasy_21km = top_10_final[\"Czas netto 21.097km\"].to_list()\n",
    "miejsca_10km = data_cleaned[\"Miejsce po 10km\"].to_list()\n",
    "miejsca_16km = data_cleaned[\"Miejsce po 16km\"].to_list()\n",
    "miejsca_21km = top_10_final[\"Miejsce po 21km\"].to_list()\n",
    "\n",
    "# Tworzenie wykresu\n",
    "fig = go.Figure()\n",
    "\n",
    "for i, zawodnik in enumerate(zawodnicy):\n",
    "    fig.add_trace(go.Scatter(\n",
    "        x=[10, 16, 21],\n",
    "        y=[czasy_10km[i], czasy_16km[i], czasy_21km[i]],\n",
    "        mode='lines+markers',\n",
    "        name=zawodnik,\n",
    "        text=[\n",
    "            f\"{zawodnik}, miejsce ogólne na 10km: {int(miejsca_10km[i])}\",\n",
    "            f\"{zawodnik}, miejsce ogólne na 16km: {int(miejsca_16km[i])}\",\n",
    "            f\"{zawodnik}, miejsce ogólne na 21km: {int(miejsca_21km[i])}\"\n",
    "        ],\n",
    "        hoverinfo='text'\n",
    "    ))\n",
    "\n",
    "# Ustawienia osi i tytułów\n",
    "fig.update_layout(\n",
    "    width=1100,\n",
    "    height=800,\n",
    "    title=\"Czasy najlepszych zawodników na dystansach 10 km, 16 km i 21 km (z miejscem w klasyfikacji ogólnej)\",\n",
    "    xaxis=dict(title=\"Dystans (km)\", tickvals=[10, 16, 21], ticktext=[\"10 km\", \"16 km\", \"21 km\"]),\n",
    "    yaxis=dict(title=\"Czas (minuty)\"),\n",
    "    legend_title=\"Zawodnik\",\n",
    "    template=\"plotly_white\"\n",
    ")\n",
    "\n",
    "fig.show()\n"
   ]
  },
  {
   "cell_type": "markdown",
   "id": "3d835948-2d80-472f-b6fe-f58c9b097b45",
   "metadata": {},
   "source": [
    "**wizualizacja kształtowania się pozycji najszybszych 10 kobiet**"
   ]
  },
  {
   "cell_type": "code",
   "execution_count": 32,
   "id": "2cf59f1d-c416-41e7-8927-0e810fd7fa8d",
   "metadata": {},
   "outputs": [
    {
     "data": {
      "application/vnd.plotly.v1+json": {
       "config": {
        "plotlyServerURL": "https://plot.ly"
       },
       "data": [
        {
         "hoverinfo": "text",
         "mode": "lines+markers",
         "name": "TULEJA Aleksandra",
         "text": [
          "TULEJA Aleksandra, miejsce po 10km: 1",
          "TULEJA Aleksandra, miejsce po 16km: 1",
          "TULEJA Aleksandra, miejsce po 21km: 1"
         ],
         "type": "scatter",
         "x": [
          10,
          16,
          21
         ],
         "y": [
          41.06666666666667,
          66.01666666666667,
          86.59983333333334
         ]
        },
        {
         "hoverinfo": "text",
         "mode": "lines+markers",
         "name": "BROL Dominika",
         "text": [
          "BROL Dominika, miejsce po 10km: 2",
          "BROL Dominika, miejsce po 16km: 2",
          "BROL Dominika, miejsce po 21km: 2"
         ],
         "type": "scatter",
         "x": [
          10,
          16,
          21
         ],
         "y": [
          41.35,
          66.33333333333333,
          87.088
         ]
        },
        {
         "hoverinfo": "text",
         "mode": "lines+markers",
         "name": "SZEWCZYK Urszula",
         "text": [
          "SZEWCZYK Urszula, miejsce po 10km: 3",
          "SZEWCZYK Urszula, miejsce po 16km: 3",
          "SZEWCZYK Urszula, miejsce po 21km: 3"
         ],
         "type": "scatter",
         "x": [
          10,
          16,
          21
         ],
         "y": [
          42.35,
          68.28333333333333,
          89.98583333333333
         ]
        },
        {
         "hoverinfo": "text",
         "mode": "lines+markers",
         "name": "BRANDSTÄTTER Grazyna",
         "text": [
          "BRANDSTÄTTER Grazyna, miejsce po 10km: 5",
          "BRANDSTÄTTER Grazyna, miejsce po 16km: 5",
          "BRANDSTÄTTER Grazyna, miejsce po 21km: 4"
         ],
         "type": "scatter",
         "x": [
          10,
          16,
          21
         ],
         "y": [
          46.666666666666664,
          74.26666666666667,
          97.606
         ]
        },
        {
         "hoverinfo": "text",
         "mode": "lines+markers",
         "name": "MUSIALIK Magdalena",
         "text": [
          "MUSIALIK Magdalena, miejsce po 10km: 4",
          "MUSIALIK Magdalena, miejsce po 16km: 4",
          "MUSIALIK Magdalena, miejsce po 21km: 5"
         ],
         "type": "scatter",
         "x": [
          10,
          16,
          21
         ],
         "y": [
          46.13333333333333,
          74.11666666666666,
          97.7285
         ]
        },
        {
         "hoverinfo": "text",
         "mode": "lines+markers",
         "name": "DĄBROWSKA Julia",
         "text": [
          "DĄBROWSKA Julia, miejsce po 10km: 6",
          "DĄBROWSKA Julia, miejsce po 16km: 6",
          "DĄBROWSKA Julia, miejsce po 21km: 6"
         ],
         "type": "scatter",
         "x": [
          10,
          16,
          21
         ],
         "y": [
          46.71666666666667,
          75.61666666666666,
          99.92483333333334
         ]
        },
        {
         "hoverinfo": "text",
         "mode": "lines+markers",
         "name": "STANEK Katarzyna",
         "text": [
          "STANEK Katarzyna, miejsce po 10km: 8",
          "STANEK Katarzyna, miejsce po 16km: 7",
          "STANEK Katarzyna, miejsce po 21km: 7"
         ],
         "type": "scatter",
         "x": [
          10,
          16,
          21
         ],
         "y": [
          47.9,
          76.63333333333334,
          100.374
         ]
        },
        {
         "hoverinfo": "text",
         "mode": "lines+markers",
         "name": "WIGLUSZ Katarzyna",
         "text": [
          "WIGLUSZ Katarzyna, miejsce po 10km: 12",
          "WIGLUSZ Katarzyna, miejsce po 16km: 9",
          "WIGLUSZ Katarzyna, miejsce po 21km: 8"
         ],
         "type": "scatter",
         "x": [
          10,
          16,
          21
         ],
         "y": [
          48.61666666666667,
          77.23333333333333,
          101.29566666666666
         ]
        },
        {
         "hoverinfo": "text",
         "mode": "lines+markers",
         "name": "KOBRYŃ-KRÓL Małgorzata",
         "text": [
          "KOBRYŃ-KRÓL Małgorzata, miejsce po 10km: 7",
          "KOBRYŃ-KRÓL Małgorzata, miejsce po 16km: 8",
          "KOBRYŃ-KRÓL Małgorzata, miejsce po 21km: 9"
         ],
         "type": "scatter",
         "x": [
          10,
          16,
          21
         ],
         "y": [
          47.71666666666667,
          76.83333333333333,
          101.45516666666667
         ]
        },
        {
         "hoverinfo": "text",
         "mode": "lines+markers",
         "name": "BAR Agata",
         "text": [
          "BAR Agata, miejsce po 10km: 11",
          "BAR Agata, miejsce po 16km: 10",
          "BAR Agata, miejsce po 21km: 10"
         ],
         "type": "scatter",
         "x": [
          10,
          16,
          21
         ],
         "y": [
          48.583333333333336,
          77.71666666666667,
          101.975
         ]
        }
       ],
       "layout": {
        "height": 800,
        "legend": {
         "title": {
          "text": "Zawodnik"
         }
        },
        "template": {
         "data": {
          "bar": [
           {
            "error_x": {
             "color": "#2a3f5f"
            },
            "error_y": {
             "color": "#2a3f5f"
            },
            "marker": {
             "line": {
              "color": "white",
              "width": 0.5
             },
             "pattern": {
              "fillmode": "overlay",
              "size": 10,
              "solidity": 0.2
             }
            },
            "type": "bar"
           }
          ],
          "barpolar": [
           {
            "marker": {
             "line": {
              "color": "white",
              "width": 0.5
             },
             "pattern": {
              "fillmode": "overlay",
              "size": 10,
              "solidity": 0.2
             }
            },
            "type": "barpolar"
           }
          ],
          "carpet": [
           {
            "aaxis": {
             "endlinecolor": "#2a3f5f",
             "gridcolor": "#C8D4E3",
             "linecolor": "#C8D4E3",
             "minorgridcolor": "#C8D4E3",
             "startlinecolor": "#2a3f5f"
            },
            "baxis": {
             "endlinecolor": "#2a3f5f",
             "gridcolor": "#C8D4E3",
             "linecolor": "#C8D4E3",
             "minorgridcolor": "#C8D4E3",
             "startlinecolor": "#2a3f5f"
            },
            "type": "carpet"
           }
          ],
          "choropleth": [
           {
            "colorbar": {
             "outlinewidth": 0,
             "ticks": ""
            },
            "type": "choropleth"
           }
          ],
          "contour": [
           {
            "colorbar": {
             "outlinewidth": 0,
             "ticks": ""
            },
            "colorscale": [
             [
              0,
              "#0d0887"
             ],
             [
              0.1111111111111111,
              "#46039f"
             ],
             [
              0.2222222222222222,
              "#7201a8"
             ],
             [
              0.3333333333333333,
              "#9c179e"
             ],
             [
              0.4444444444444444,
              "#bd3786"
             ],
             [
              0.5555555555555556,
              "#d8576b"
             ],
             [
              0.6666666666666666,
              "#ed7953"
             ],
             [
              0.7777777777777778,
              "#fb9f3a"
             ],
             [
              0.8888888888888888,
              "#fdca26"
             ],
             [
              1,
              "#f0f921"
             ]
            ],
            "type": "contour"
           }
          ],
          "contourcarpet": [
           {
            "colorbar": {
             "outlinewidth": 0,
             "ticks": ""
            },
            "type": "contourcarpet"
           }
          ],
          "heatmap": [
           {
            "colorbar": {
             "outlinewidth": 0,
             "ticks": ""
            },
            "colorscale": [
             [
              0,
              "#0d0887"
             ],
             [
              0.1111111111111111,
              "#46039f"
             ],
             [
              0.2222222222222222,
              "#7201a8"
             ],
             [
              0.3333333333333333,
              "#9c179e"
             ],
             [
              0.4444444444444444,
              "#bd3786"
             ],
             [
              0.5555555555555556,
              "#d8576b"
             ],
             [
              0.6666666666666666,
              "#ed7953"
             ],
             [
              0.7777777777777778,
              "#fb9f3a"
             ],
             [
              0.8888888888888888,
              "#fdca26"
             ],
             [
              1,
              "#f0f921"
             ]
            ],
            "type": "heatmap"
           }
          ],
          "histogram": [
           {
            "marker": {
             "pattern": {
              "fillmode": "overlay",
              "size": 10,
              "solidity": 0.2
             }
            },
            "type": "histogram"
           }
          ],
          "histogram2d": [
           {
            "colorbar": {
             "outlinewidth": 0,
             "ticks": ""
            },
            "colorscale": [
             [
              0,
              "#0d0887"
             ],
             [
              0.1111111111111111,
              "#46039f"
             ],
             [
              0.2222222222222222,
              "#7201a8"
             ],
             [
              0.3333333333333333,
              "#9c179e"
             ],
             [
              0.4444444444444444,
              "#bd3786"
             ],
             [
              0.5555555555555556,
              "#d8576b"
             ],
             [
              0.6666666666666666,
              "#ed7953"
             ],
             [
              0.7777777777777778,
              "#fb9f3a"
             ],
             [
              0.8888888888888888,
              "#fdca26"
             ],
             [
              1,
              "#f0f921"
             ]
            ],
            "type": "histogram2d"
           }
          ],
          "histogram2dcontour": [
           {
            "colorbar": {
             "outlinewidth": 0,
             "ticks": ""
            },
            "colorscale": [
             [
              0,
              "#0d0887"
             ],
             [
              0.1111111111111111,
              "#46039f"
             ],
             [
              0.2222222222222222,
              "#7201a8"
             ],
             [
              0.3333333333333333,
              "#9c179e"
             ],
             [
              0.4444444444444444,
              "#bd3786"
             ],
             [
              0.5555555555555556,
              "#d8576b"
             ],
             [
              0.6666666666666666,
              "#ed7953"
             ],
             [
              0.7777777777777778,
              "#fb9f3a"
             ],
             [
              0.8888888888888888,
              "#fdca26"
             ],
             [
              1,
              "#f0f921"
             ]
            ],
            "type": "histogram2dcontour"
           }
          ],
          "mesh3d": [
           {
            "colorbar": {
             "outlinewidth": 0,
             "ticks": ""
            },
            "type": "mesh3d"
           }
          ],
          "parcoords": [
           {
            "line": {
             "colorbar": {
              "outlinewidth": 0,
              "ticks": ""
             }
            },
            "type": "parcoords"
           }
          ],
          "pie": [
           {
            "automargin": true,
            "type": "pie"
           }
          ],
          "scatter": [
           {
            "fillpattern": {
             "fillmode": "overlay",
             "size": 10,
             "solidity": 0.2
            },
            "type": "scatter"
           }
          ],
          "scatter3d": [
           {
            "line": {
             "colorbar": {
              "outlinewidth": 0,
              "ticks": ""
             }
            },
            "marker": {
             "colorbar": {
              "outlinewidth": 0,
              "ticks": ""
             }
            },
            "type": "scatter3d"
           }
          ],
          "scattercarpet": [
           {
            "marker": {
             "colorbar": {
              "outlinewidth": 0,
              "ticks": ""
             }
            },
            "type": "scattercarpet"
           }
          ],
          "scattergeo": [
           {
            "marker": {
             "colorbar": {
              "outlinewidth": 0,
              "ticks": ""
             }
            },
            "type": "scattergeo"
           }
          ],
          "scattergl": [
           {
            "marker": {
             "colorbar": {
              "outlinewidth": 0,
              "ticks": ""
             }
            },
            "type": "scattergl"
           }
          ],
          "scattermap": [
           {
            "marker": {
             "colorbar": {
              "outlinewidth": 0,
              "ticks": ""
             }
            },
            "type": "scattermap"
           }
          ],
          "scattermapbox": [
           {
            "marker": {
             "colorbar": {
              "outlinewidth": 0,
              "ticks": ""
             }
            },
            "type": "scattermapbox"
           }
          ],
          "scatterpolar": [
           {
            "marker": {
             "colorbar": {
              "outlinewidth": 0,
              "ticks": ""
             }
            },
            "type": "scatterpolar"
           }
          ],
          "scatterpolargl": [
           {
            "marker": {
             "colorbar": {
              "outlinewidth": 0,
              "ticks": ""
             }
            },
            "type": "scatterpolargl"
           }
          ],
          "scatterternary": [
           {
            "marker": {
             "colorbar": {
              "outlinewidth": 0,
              "ticks": ""
             }
            },
            "type": "scatterternary"
           }
          ],
          "surface": [
           {
            "colorbar": {
             "outlinewidth": 0,
             "ticks": ""
            },
            "colorscale": [
             [
              0,
              "#0d0887"
             ],
             [
              0.1111111111111111,
              "#46039f"
             ],
             [
              0.2222222222222222,
              "#7201a8"
             ],
             [
              0.3333333333333333,
              "#9c179e"
             ],
             [
              0.4444444444444444,
              "#bd3786"
             ],
             [
              0.5555555555555556,
              "#d8576b"
             ],
             [
              0.6666666666666666,
              "#ed7953"
             ],
             [
              0.7777777777777778,
              "#fb9f3a"
             ],
             [
              0.8888888888888888,
              "#fdca26"
             ],
             [
              1,
              "#f0f921"
             ]
            ],
            "type": "surface"
           }
          ],
          "table": [
           {
            "cells": {
             "fill": {
              "color": "#EBF0F8"
             },
             "line": {
              "color": "white"
             }
            },
            "header": {
             "fill": {
              "color": "#C8D4E3"
             },
             "line": {
              "color": "white"
             }
            },
            "type": "table"
           }
          ]
         },
         "layout": {
          "annotationdefaults": {
           "arrowcolor": "#2a3f5f",
           "arrowhead": 0,
           "arrowwidth": 1
          },
          "autotypenumbers": "strict",
          "coloraxis": {
           "colorbar": {
            "outlinewidth": 0,
            "ticks": ""
           }
          },
          "colorscale": {
           "diverging": [
            [
             0,
             "#8e0152"
            ],
            [
             0.1,
             "#c51b7d"
            ],
            [
             0.2,
             "#de77ae"
            ],
            [
             0.3,
             "#f1b6da"
            ],
            [
             0.4,
             "#fde0ef"
            ],
            [
             0.5,
             "#f7f7f7"
            ],
            [
             0.6,
             "#e6f5d0"
            ],
            [
             0.7,
             "#b8e186"
            ],
            [
             0.8,
             "#7fbc41"
            ],
            [
             0.9,
             "#4d9221"
            ],
            [
             1,
             "#276419"
            ]
           ],
           "sequential": [
            [
             0,
             "#0d0887"
            ],
            [
             0.1111111111111111,
             "#46039f"
            ],
            [
             0.2222222222222222,
             "#7201a8"
            ],
            [
             0.3333333333333333,
             "#9c179e"
            ],
            [
             0.4444444444444444,
             "#bd3786"
            ],
            [
             0.5555555555555556,
             "#d8576b"
            ],
            [
             0.6666666666666666,
             "#ed7953"
            ],
            [
             0.7777777777777778,
             "#fb9f3a"
            ],
            [
             0.8888888888888888,
             "#fdca26"
            ],
            [
             1,
             "#f0f921"
            ]
           ],
           "sequentialminus": [
            [
             0,
             "#0d0887"
            ],
            [
             0.1111111111111111,
             "#46039f"
            ],
            [
             0.2222222222222222,
             "#7201a8"
            ],
            [
             0.3333333333333333,
             "#9c179e"
            ],
            [
             0.4444444444444444,
             "#bd3786"
            ],
            [
             0.5555555555555556,
             "#d8576b"
            ],
            [
             0.6666666666666666,
             "#ed7953"
            ],
            [
             0.7777777777777778,
             "#fb9f3a"
            ],
            [
             0.8888888888888888,
             "#fdca26"
            ],
            [
             1,
             "#f0f921"
            ]
           ]
          },
          "colorway": [
           "#636efa",
           "#EF553B",
           "#00cc96",
           "#ab63fa",
           "#FFA15A",
           "#19d3f3",
           "#FF6692",
           "#B6E880",
           "#FF97FF",
           "#FECB52"
          ],
          "font": {
           "color": "#2a3f5f"
          },
          "geo": {
           "bgcolor": "white",
           "lakecolor": "white",
           "landcolor": "white",
           "showlakes": true,
           "showland": true,
           "subunitcolor": "#C8D4E3"
          },
          "hoverlabel": {
           "align": "left"
          },
          "hovermode": "closest",
          "mapbox": {
           "style": "light"
          },
          "paper_bgcolor": "white",
          "plot_bgcolor": "white",
          "polar": {
           "angularaxis": {
            "gridcolor": "#EBF0F8",
            "linecolor": "#EBF0F8",
            "ticks": ""
           },
           "bgcolor": "white",
           "radialaxis": {
            "gridcolor": "#EBF0F8",
            "linecolor": "#EBF0F8",
            "ticks": ""
           }
          },
          "scene": {
           "xaxis": {
            "backgroundcolor": "white",
            "gridcolor": "#DFE8F3",
            "gridwidth": 2,
            "linecolor": "#EBF0F8",
            "showbackground": true,
            "ticks": "",
            "zerolinecolor": "#EBF0F8"
           },
           "yaxis": {
            "backgroundcolor": "white",
            "gridcolor": "#DFE8F3",
            "gridwidth": 2,
            "linecolor": "#EBF0F8",
            "showbackground": true,
            "ticks": "",
            "zerolinecolor": "#EBF0F8"
           },
           "zaxis": {
            "backgroundcolor": "white",
            "gridcolor": "#DFE8F3",
            "gridwidth": 2,
            "linecolor": "#EBF0F8",
            "showbackground": true,
            "ticks": "",
            "zerolinecolor": "#EBF0F8"
           }
          },
          "shapedefaults": {
           "line": {
            "color": "#2a3f5f"
           }
          },
          "ternary": {
           "aaxis": {
            "gridcolor": "#DFE8F3",
            "linecolor": "#A2B1C6",
            "ticks": ""
           },
           "baxis": {
            "gridcolor": "#DFE8F3",
            "linecolor": "#A2B1C6",
            "ticks": ""
           },
           "bgcolor": "white",
           "caxis": {
            "gridcolor": "#DFE8F3",
            "linecolor": "#A2B1C6",
            "ticks": ""
           }
          },
          "title": {
           "x": 0.05
          },
          "xaxis": {
           "automargin": true,
           "gridcolor": "#EBF0F8",
           "linecolor": "#EBF0F8",
           "ticks": "",
           "title": {
            "standoff": 15
           },
           "zerolinecolor": "#EBF0F8",
           "zerolinewidth": 2
          },
          "yaxis": {
           "automargin": true,
           "gridcolor": "#EBF0F8",
           "linecolor": "#EBF0F8",
           "ticks": "",
           "title": {
            "standoff": 15
           },
           "zerolinecolor": "#EBF0F8",
           "zerolinewidth": 2
          }
         }
        },
        "title": {
         "text": "miejsca najszybszych kobiet po dystansach 10 km, 16 km i 21 km (z miejscem w klasyfikacji ogólnej)"
        },
        "width": 1100,
        "xaxis": {
         "ticktext": [
          "10 km",
          "16 km",
          "21 km"
         ],
         "tickvals": [
          10,
          16,
          21
         ],
         "title": {
          "text": "Dystans (km)"
         }
        },
        "yaxis": {
         "title": {
          "text": "Czas (minuty)"
         }
        }
       }
      }
     },
     "metadata": {},
     "output_type": "display_data"
    }
   ],
   "source": [
    "data_women_cleaned = women_data.drop_nulls([\"10km\", \"16.097km\", \"Czas netto 21.097km\"])\n",
    "data_women_cleaned = data_women_cleaned.with_columns([\n",
    "    pl.col(\"10km\").rank().alias(\"Miejsce po 10km\"),\n",
    "    pl.col(\"16.097km\").rank().alias(\"Miejsce po 16km\"),\n",
    "    pl.col(\"Czas netto 21.097km\").rank().alias(\"Miejsce po 21km\")\n",
    "])\n",
    "\n",
    "top_10_women_final = data_women_cleaned.sort(\"Czas netto 21.097km\").head(10)\n",
    "\n",
    "# Przygotowanie danych do wykresu\n",
    "zawodnicy = top_10_women_final[\"Zawodnik\"].to_list()\n",
    "czasy_10km = data_women_cleaned[\"10km\"].to_list()\n",
    "czasy_16km = data_women_cleaned[\"16.097km\"].to_list()\n",
    "czasy_21km = data_women_cleaned[\"Czas netto 21.097km\"].to_list()\n",
    "miejsca_10km = data_women_cleaned[\"Miejsce po 10km\"].to_list()\n",
    "miejsca_16km = data_women_cleaned[\"Miejsce po 16km\"].to_list()\n",
    "miejsca_21km = data_women_cleaned[\"Miejsce po 21km\"].to_list()\n",
    "\n",
    "fig = go.Figure()\n",
    "\n",
    "for i, zawodnik in enumerate(zawodnicy):\n",
    "    fig.add_trace(go.Scatter(\n",
    "        x=[10, 16, 21],\n",
    "        y=[czasy_10km[i], czasy_16km[i], czasy_21km[i]],\n",
    "        mode='lines+markers',\n",
    "        name=zawodnik,\n",
    "        text=[\n",
    "            f\"{zawodnik}, miejsce po 10km: {int(miejsca_10km[i])}\",\n",
    "            f\"{zawodnik}, miejsce po 16km: {int(miejsca_16km[i])}\",\n",
    "            f\"{zawodnik}, miejsce po 21km: {int(miejsca_21km[i])}\"\n",
    "        ],\n",
    "        hoverinfo='text'\n",
    "    ))\n",
    "\n",
    "# Ustawienia osi i tytułów\n",
    "fig.update_layout(\n",
    "    width=1100,\n",
    "    height=800,\n",
    "    title=\"miejsca najszybszych kobiet po dystansach 10 km, 16 km i 21 km (z miejscem w klasyfikacji ogólnej)\",\n",
    "    xaxis=dict(title=\"Dystans (km)\", tickvals=[10, 16, 21], ticktext=[\"10 km\", \"16 km\", \"21 km\"]),\n",
    "    yaxis=dict(title=\"Czas (minuty)\"),\n",
    "    legend_title=\"Zawodnik\",\n",
    "    template=\"plotly_white\"\n",
    ")\n",
    "\n",
    "fig.show()\n"
   ]
  },
  {
   "cell_type": "markdown",
   "id": "529b2344-e631-41ee-a3fd-b105e4e7799a",
   "metadata": {},
   "source": [
    "**wykres gęstości pokazujący rozkład zmiennej tempo**"
   ]
  },
  {
   "cell_type": "code",
   "execution_count": 33,
   "id": "10d38feb-4528-4c32-be1c-dc1cd02953c4",
   "metadata": {},
   "outputs": [
    {
     "data": {
      "text/html": [
       "<div><style>\n",
       ".dataframe > thead > tr,\n",
       ".dataframe > tbody > tr {\n",
       "  text-align: right;\n",
       "  white-space: pre-wrap;\n",
       "}\n",
       "</style>\n",
       "<small>shape: (9, 2)</small><table border=\"1\" class=\"dataframe\"><thead><tr><th>statistic</th><th>value</th></tr><tr><td>str</td><td>f64</td></tr></thead><tbody><tr><td>&quot;count&quot;</td><td>759.0</td></tr><tr><td>&quot;null_count&quot;</td><td>0.0</td></tr><tr><td>&quot;mean&quot;</td><td>11.08195</td></tr><tr><td>&quot;std&quot;</td><td>1.763812</td></tr><tr><td>&quot;min&quot;</td><td>6.3</td></tr><tr><td>&quot;25%&quot;</td><td>10.0</td></tr><tr><td>&quot;50%&quot;</td><td>10.9</td></tr><tr><td>&quot;75%&quot;</td><td>12.1</td></tr><tr><td>&quot;max&quot;</td><td>17.5</td></tr></tbody></table></div>"
      ],
      "text/plain": [
       "shape: (9, 2)\n",
       "┌────────────┬──────────┐\n",
       "│ statistic  ┆ value    │\n",
       "│ ---        ┆ ---      │\n",
       "│ str        ┆ f64      │\n",
       "╞════════════╪══════════╡\n",
       "│ count      ┆ 759.0    │\n",
       "│ null_count ┆ 0.0      │\n",
       "│ mean       ┆ 11.08195 │\n",
       "│ std        ┆ 1.763812 │\n",
       "│ min        ┆ 6.3      │\n",
       "│ 25%        ┆ 10.0     │\n",
       "│ 50%        ┆ 10.9     │\n",
       "│ 75%        ┆ 12.1     │\n",
       "│ max        ┆ 17.5     │\n",
       "└────────────┴──────────┘"
      ]
     },
     "execution_count": 33,
     "metadata": {},
     "output_type": "execute_result"
    },
    {
     "data": {
      "image/png": "[encoded data removed]",
      "text/plain": [
       "<Figure size 500x500 with 1 Axes>"
      ]
     },
     "metadata": {},
     "output_type": "display_data"
    }
   ],
   "source": [
    "plot_speed = sns.displot(x='Tempo km/h', data=data, kind='kde')\n",
    "\n",
    "\n",
    "data['Tempo km/h'].describe()"
   ]
  },
  {
   "cell_type": "markdown",
   "id": "eacd2e4a-be0c-4792-8929-292b47b70eef",
   "metadata": {},
   "source": [
    "Możemy zauważyć, że najwięcej osób przebiegło półmaraton z średnim tempem ok. 11km/h. Co ciekawe zawodników biegnących z tempem ok. 17k/h było więcej niż tych biegnących 16km/h. Może to świadczyć o tym, że utworzyła się pewna grupa ucieczkowa, która odłączyła się od reszty. "
   ]
  },
  {
   "cell_type": "markdown",
   "id": "266f8982-91d5-41e2-9c71-d31534f1dbe2",
   "metadata": {},
   "source": [
    "**podział danych ze względu na wiek**"
   ]
  },
  {
   "cell_type": "markdown",
   "id": "1a6d46a7-8d6d-482c-93ec-739bbca83056",
   "metadata": {},
   "source": [
    "mężczyźni"
   ]
  },
  {
   "cell_type": "code",
   "execution_count": 34,
   "id": "275fad5d-62e6-4ef6-8a3d-3cc8145e155e",
   "metadata": {},
   "outputs": [
    {
     "data": {
      "application/vnd.plotly.v1+json": {
       "config": {
        "plotlyServerURL": "https://plot.ly"
       },
       "data": [
        {
         "marker": {
          "color": [
           "blue",
           "orange",
           "green",
           "red",
           "purple"
          ]
         },
         "textposition": "outside",
         "type": "bar",
         "x": [
          "M-20",
          "M-30",
          "M-40",
          "M-50",
          "M-60"
         ],
         "y": [
          121,
          191,
          191,
          69,
          11
         ]
        }
       ],
       "layout": {
        "height": 600,
        "template": {
         "data": {
          "bar": [
           {
            "error_x": {
             "color": "#2a3f5f"
            },
            "error_y": {
             "color": "#2a3f5f"
            },
            "marker": {
             "line": {
              "color": "white",
              "width": 0.5
             },
             "pattern": {
              "fillmode": "overlay",
              "size": 10,
              "solidity": 0.2
             }
            },
            "type": "bar"
           }
          ],
          "barpolar": [
           {
            "marker": {
             "line": {
              "color": "white",
              "width": 0.5
             },
             "pattern": {
              "fillmode": "overlay",
              "size": 10,
              "solidity": 0.2
             }
            },
            "type": "barpolar"
           }
          ],
          "carpet": [
           {
            "aaxis": {
             "endlinecolor": "#2a3f5f",
             "gridcolor": "#C8D4E3",
             "linecolor": "#C8D4E3",
             "minorgridcolor": "#C8D4E3",
             "startlinecolor": "#2a3f5f"
            },
            "baxis": {
             "endlinecolor": "#2a3f5f",
             "gridcolor": "#C8D4E3",
             "linecolor": "#C8D4E3",
             "minorgridcolor": "#C8D4E3",
             "startlinecolor": "#2a3f5f"
            },
            "type": "carpet"
           }
          ],
          "choropleth": [
           {
            "colorbar": {
             "outlinewidth": 0,
             "ticks": ""
            },
            "type": "choropleth"
           }
          ],
          "contour": [
           {
            "colorbar": {
             "outlinewidth": 0,
             "ticks": ""
            },
            "colorscale": [
             [
              0,
              "#0d0887"
             ],
             [
              0.1111111111111111,
              "#46039f"
             ],
             [
              0.2222222222222222,
              "#7201a8"
             ],
             [
              0.3333333333333333,
              "#9c179e"
             ],
             [
              0.4444444444444444,
              "#bd3786"
             ],
             [
              0.5555555555555556,
              "#d8576b"
             ],
             [
              0.6666666666666666,
              "#ed7953"
             ],
             [
              0.7777777777777778,
              "#fb9f3a"
             ],
             [
              0.8888888888888888,
              "#fdca26"
             ],
             [
              1,
              "#f0f921"
             ]
            ],
            "type": "contour"
           }
          ],
          "contourcarpet": [
           {
            "colorbar": {
             "outlinewidth": 0,
             "ticks": ""
            },
            "type": "contourcarpet"
           }
          ],
          "heatmap": [
           {
            "colorbar": {
             "outlinewidth": 0,
             "ticks": ""
            },
            "colorscale": [
             [
              0,
              "#0d0887"
             ],
             [
              0.1111111111111111,
              "#46039f"
             ],
             [
              0.2222222222222222,
              "#7201a8"
             ],
             [
              0.3333333333333333,
              "#9c179e"
             ],
             [
              0.4444444444444444,
              "#bd3786"
             ],
             [
              0.5555555555555556,
              "#d8576b"
             ],
             [
              0.6666666666666666,
              "#ed7953"
             ],
             [
              0.7777777777777778,
              "#fb9f3a"
             ],
             [
              0.8888888888888888,
              "#fdca26"
             ],
             [
              1,
              "#f0f921"
             ]
            ],
            "type": "heatmap"
           }
          ],
          "histogram": [
           {
            "marker": {
             "pattern": {
              "fillmode": "overlay",
              "size": 10,
              "solidity": 0.2
             }
            },
            "type": "histogram"
           }
          ],
          "histogram2d": [
           {
            "colorbar": {
             "outlinewidth": 0,
             "ticks": ""
            },
            "colorscale": [
             [
              0,
              "#0d0887"
             ],
             [
              0.1111111111111111,
              "#46039f"
             ],
             [
              0.2222222222222222,
              "#7201a8"
             ],
             [
              0.3333333333333333,
              "#9c179e"
             ],
             [
              0.4444444444444444,
              "#bd3786"
             ],
             [
              0.5555555555555556,
              "#d8576b"
             ],
             [
              0.6666666666666666,
              "#ed7953"
             ],
             [
              0.7777777777777778,
              "#fb9f3a"
             ],
             [
              0.8888888888888888,
              "#fdca26"
             ],
             [
              1,
              "#f0f921"
             ]
            ],
            "type": "histogram2d"
           }
          ],
          "histogram2dcontour": [
           {
            "colorbar": {
             "outlinewidth": 0,
             "ticks": ""
            },
            "colorscale": [
             [
              0,
              "#0d0887"
             ],
             [
              0.1111111111111111,
              "#46039f"
             ],
             [
              0.2222222222222222,
              "#7201a8"
             ],
             [
              0.3333333333333333,
              "#9c179e"
             ],
             [
              0.4444444444444444,
              "#bd3786"
             ],
             [
              0.5555555555555556,
              "#d8576b"
             ],
             [
              0.6666666666666666,
              "#ed7953"
             ],
             [
              0.7777777777777778,
              "#fb9f3a"
             ],
             [
              0.8888888888888888,
              "#fdca26"
             ],
             [
              1,
              "#f0f921"
             ]
            ],
            "type": "histogram2dcontour"
           }
          ],
          "mesh3d": [
           {
            "colorbar": {
             "outlinewidth": 0,
             "ticks": ""
            },
            "type": "mesh3d"
           }
          ],
          "parcoords": [
           {
            "line": {
             "colorbar": {
              "outlinewidth": 0,
              "ticks": ""
             }
            },
            "type": "parcoords"
           }
          ],
          "pie": [
           {
            "automargin": true,
            "type": "pie"
           }
          ],
          "scatter": [
           {
            "fillpattern": {
             "fillmode": "overlay",
             "size": 10,
             "solidity": 0.2
            },
            "type": "scatter"
           }
          ],
          "scatter3d": [
           {
            "line": {
             "colorbar": {
              "outlinewidth": 0,
              "ticks": ""
             }
            },
            "marker": {
             "colorbar": {
              "outlinewidth": 0,
              "ticks": ""
             }
            },
            "type": "scatter3d"
           }
          ],
          "scattercarpet": [
           {
            "marker": {
             "colorbar": {
              "outlinewidth": 0,
              "ticks": ""
             }
            },
            "type": "scattercarpet"
           }
          ],
          "scattergeo": [
           {
            "marker": {
             "colorbar": {
              "outlinewidth": 0,
              "ticks": ""
             }
            },
            "type": "scattergeo"
           }
          ],
          "scattergl": [
           {
            "marker": {
             "colorbar": {
              "outlinewidth": 0,
              "ticks": ""
             }
            },
            "type": "scattergl"
           }
          ],
          "scattermap": [
           {
            "marker": {
             "colorbar": {
              "outlinewidth": 0,
              "ticks": ""
             }
            },
            "type": "scattermap"
           }
          ],
          "scattermapbox": [
           {
            "marker": {
             "colorbar": {
              "outlinewidth": 0,
              "ticks": ""
             }
            },
            "type": "scattermapbox"
           }
          ],
          "scatterpolar": [
           {
            "marker": {
             "colorbar": {
              "outlinewidth": 0,
              "ticks": ""
             }
            },
            "type": "scatterpolar"
           }
          ],
          "scatterpolargl": [
           {
            "marker": {
             "colorbar": {
              "outlinewidth": 0,
              "ticks": ""
             }
            },
            "type": "scatterpolargl"
           }
          ],
          "scatterternary": [
           {
            "marker": {
             "colorbar": {
              "outlinewidth": 0,
              "ticks": ""
             }
            },
            "type": "scatterternary"
           }
          ],
          "surface": [
           {
            "colorbar": {
             "outlinewidth": 0,
             "ticks": ""
            },
            "colorscale": [
             [
              0,
              "#0d0887"
             ],
             [
              0.1111111111111111,
              "#46039f"
             ],
             [
              0.2222222222222222,
              "#7201a8"
             ],
             [
              0.3333333333333333,
              "#9c179e"
             ],
             [
              0.4444444444444444,
              "#bd3786"
             ],
             [
              0.5555555555555556,
              "#d8576b"
             ],
             [
              0.6666666666666666,
              "#ed7953"
             ],
             [
              0.7777777777777778,
              "#fb9f3a"
             ],
             [
              0.8888888888888888,
              "#fdca26"
             ],
             [
              1,
              "#f0f921"
             ]
            ],
            "type": "surface"
           }
          ],
          "table": [
           {
            "cells": {
             "fill": {
              "color": "#EBF0F8"
             },
             "line": {
              "color": "white"
             }
            },
            "header": {
             "fill": {
              "color": "#C8D4E3"
             },
             "line": {
              "color": "white"
             }
            },
            "type": "table"
           }
          ]
         },
         "layout": {
          "annotationdefaults": {
           "arrowcolor": "#2a3f5f",
           "arrowhead": 0,
           "arrowwidth": 1
          },
          "autotypenumbers": "strict",
          "coloraxis": {
           "colorbar": {
            "outlinewidth": 0,
            "ticks": ""
           }
          },
          "colorscale": {
           "diverging": [
            [
             0,
             "#8e0152"
            ],
            [
             0.1,
             "#c51b7d"
            ],
            [
             0.2,
             "#de77ae"
            ],
            [
             0.3,
             "#f1b6da"
            ],
            [
             0.4,
             "#fde0ef"
            ],
            [
             0.5,
             "#f7f7f7"
            ],
            [
             0.6,
             "#e6f5d0"
            ],
            [
             0.7,
             "#b8e186"
            ],
            [
             0.8,
             "#7fbc41"
            ],
            [
             0.9,
             "#4d9221"
            ],
            [
             1,
             "#276419"
            ]
           ],
           "sequential": [
            [
             0,
             "#0d0887"
            ],
            [
             0.1111111111111111,
             "#46039f"
            ],
            [
             0.2222222222222222,
             "#7201a8"
            ],
            [
             0.3333333333333333,
             "#9c179e"
            ],
            [
             0.4444444444444444,
             "#bd3786"
            ],
            [
             0.5555555555555556,
             "#d8576b"
            ],
            [
             0.6666666666666666,
             "#ed7953"
            ],
            [
             0.7777777777777778,
             "#fb9f3a"
            ],
            [
             0.8888888888888888,
             "#fdca26"
            ],
            [
             1,
             "#f0f921"
            ]
           ],
           "sequentialminus": [
            [
             0,
             "#0d0887"
            ],
            [
             0.1111111111111111,
             "#46039f"
            ],
            [
             0.2222222222222222,
             "#7201a8"
            ],
            [
             0.3333333333333333,
             "#9c179e"
            ],
            [
             0.4444444444444444,
             "#bd3786"
            ],
            [
             0.5555555555555556,
             "#d8576b"
            ],
            [
             0.6666666666666666,
             "#ed7953"
            ],
            [
             0.7777777777777778,
             "#fb9f3a"
            ],
            [
             0.8888888888888888,
             "#fdca26"
            ],
            [
             1,
             "#f0f921"
            ]
           ]
          },
          "colorway": [
           "#636efa",
           "#EF553B",
           "#00cc96",
           "#ab63fa",
           "#FFA15A",
           "#19d3f3",
           "#FF6692",
           "#B6E880",
           "#FF97FF",
           "#FECB52"
          ],
          "font": {
           "color": "#2a3f5f"
          },
          "geo": {
           "bgcolor": "white",
           "lakecolor": "white",
           "landcolor": "white",
           "showlakes": true,
           "showland": true,
           "subunitcolor": "#C8D4E3"
          },
          "hoverlabel": {
           "align": "left"
          },
          "hovermode": "closest",
          "mapbox": {
           "style": "light"
          },
          "paper_bgcolor": "white",
          "plot_bgcolor": "white",
          "polar": {
           "angularaxis": {
            "gridcolor": "#EBF0F8",
            "linecolor": "#EBF0F8",
            "ticks": ""
           },
           "bgcolor": "white",
           "radialaxis": {
            "gridcolor": "#EBF0F8",
            "linecolor": "#EBF0F8",
            "ticks": ""
           }
          },
          "scene": {
           "xaxis": {
            "backgroundcolor": "white",
            "gridcolor": "#DFE8F3",
            "gridwidth": 2,
            "linecolor": "#EBF0F8",
            "showbackground": true,
            "ticks": "",
            "zerolinecolor": "#EBF0F8"
           },
           "yaxis": {
            "backgroundcolor": "white",
            "gridcolor": "#DFE8F3",
            "gridwidth": 2,
            "linecolor": "#EBF0F8",
            "showbackground": true,
            "ticks": "",
            "zerolinecolor": "#EBF0F8"
           },
           "zaxis": {
            "backgroundcolor": "white",
            "gridcolor": "#DFE8F3",
            "gridwidth": 2,
            "linecolor": "#EBF0F8",
            "showbackground": true,
            "ticks": "",
            "zerolinecolor": "#EBF0F8"
           }
          },
          "shapedefaults": {
           "line": {
            "color": "#2a3f5f"
           }
          },
          "ternary": {
           "aaxis": {
            "gridcolor": "#DFE8F3",
            "linecolor": "#A2B1C6",
            "ticks": ""
           },
           "baxis": {
            "gridcolor": "#DFE8F3",
            "linecolor": "#A2B1C6",
            "ticks": ""
           },
           "bgcolor": "white",
           "caxis": {
            "gridcolor": "#DFE8F3",
            "linecolor": "#A2B1C6",
            "ticks": ""
           }
          },
          "title": {
           "x": 0.05
          },
          "xaxis": {
           "automargin": true,
           "gridcolor": "#EBF0F8",
           "linecolor": "#EBF0F8",
           "ticks": "",
           "title": {
            "standoff": 15
           },
           "zerolinecolor": "#EBF0F8",
           "zerolinewidth": 2
          },
          "yaxis": {
           "automargin": true,
           "gridcolor": "#EBF0F8",
           "linecolor": "#EBF0F8",
           "ticks": "",
           "title": {
            "standoff": 15
           },
           "zerolinecolor": "#EBF0F8",
           "zerolinewidth": 2
          }
         }
        },
        "title": {
         "text": "Liczba mężczyzn w zależności od kategorii wiekowej"
        },
        "width": 1000,
        "xaxis": {
         "tickangle": -45,
         "title": {
          "text": "Kategoria wiekowa"
         }
        },
        "yaxis": {
         "title": {
          "text": "Liczba mężczyzn"
         }
        }
       }
      }
     },
     "metadata": {},
     "output_type": "display_data"
    }
   ],
   "source": [
    "import plotly.graph_objects as go\n",
    "\n",
    "# Przygotowanie danych\n",
    "age_groups = [\"M-20\", \"M-30\", \"M-40\", \"M-50\", \"M-60\"]\n",
    "colors = ['blue', 'orange', 'green', 'red', 'purple']\n",
    "\n",
    "age_group_counts = {}\n",
    "for group in age_groups:\n",
    "    count = men_data.filter(pl.col(\"Kategoria\") == group).height\n",
    "    age_group_counts[group] = count\n",
    "\n",
    "categories = list(age_group_counts.keys())\n",
    "counts = list(age_group_counts.values())\n",
    "\n",
    "# Tworzenie wykresu\n",
    "fig = go.Figure()\n",
    "\n",
    "fig.add_trace(go.Bar(\n",
    "    x=categories,\n",
    "    y=counts,\n",
    "    marker=dict(color=colors),\n",
    "   # text=counts,  # Wartości wyświetlane po najechani\n",
    "    textposition='outside',  # Wartości na zewnątrz słupków\n",
    "))\n",
    "\n",
    "# Ustawienia osi i tytułów\n",
    "fig.update_layout(\n",
    "    width=1000,\n",
    "    height=600,\n",
    "    title=\"Liczba mężczyzn w zależności od kategorii wiekowej\",\n",
    "    xaxis_title=\"Kategoria wiekowa\",\n",
    "    yaxis_title=\"Liczba mężczyzn\",\n",
    "    template=\"plotly_white\",\n",
    "    xaxis_tickangle=-45  # Obrót etykiet na osi X\n",
    ")\n",
    "\n",
    "fig.show()\n"
   ]
  },
  {
   "cell_type": "markdown",
   "id": "83137399-1f45-4d58-94ea-7a199494704f",
   "metadata": {},
   "source": [
    "kobiety"
   ]
  },
  {
   "cell_type": "code",
   "execution_count": 35,
   "id": "f7f989a9-39e4-4b57-ad85-17bbcc04585b",
   "metadata": {},
   "outputs": [
    {
     "data": {
      "application/vnd.plotly.v1+json": {
       "config": {
        "plotlyServerURL": "https://plot.ly"
       },
       "data": [
        {
         "hoverinfo": "text",
         "hovertext": [
          "Kategoria: K-20<br>Liczba kobiet: 38",
          "Kategoria: K-30<br>Liczba kobiet: 60",
          "Kategoria: K-40<br>Liczba kobiet: 60",
          "Kategoria: K-50<br>Liczba kobiet: 15",
          "Kategoria: K-60<br>Liczba kobiet: 1"
         ],
         "marker": {
          "color": [
           "blue",
           "orange",
           "green",
           "red",
           "purple"
          ]
         },
         "textposition": "outside",
         "type": "bar",
         "x": [
          "K-20",
          "K-30",
          "K-40",
          "K-50",
          "K-60"
         ],
         "y": [
          38,
          60,
          60,
          15,
          1
         ]
        }
       ],
       "layout": {
        "height": 600,
        "template": {
         "data": {
          "bar": [
           {
            "error_x": {
             "color": "#2a3f5f"
            },
            "error_y": {
             "color": "#2a3f5f"
            },
            "marker": {
             "line": {
              "color": "white",
              "width": 0.5
             },
             "pattern": {
              "fillmode": "overlay",
              "size": 10,
              "solidity": 0.2
             }
            },
            "type": "bar"
           }
          ],
          "barpolar": [
           {
            "marker": {
             "line": {
              "color": "white",
              "width": 0.5
             },
             "pattern": {
              "fillmode": "overlay",
              "size": 10,
              "solidity": 0.2
             }
            },
            "type": "barpolar"
           }
          ],
          "carpet": [
           {
            "aaxis": {
             "endlinecolor": "#2a3f5f",
             "gridcolor": "#C8D4E3",
             "linecolor": "#C8D4E3",
             "minorgridcolor": "#C8D4E3",
             "startlinecolor": "#2a3f5f"
            },
            "baxis": {
             "endlinecolor": "#2a3f5f",
             "gridcolor": "#C8D4E3",
             "linecolor": "#C8D4E3",
             "minorgridcolor": "#C8D4E3",
             "startlinecolor": "#2a3f5f"
            },
            "type": "carpet"
           }
          ],
          "choropleth": [
           {
            "colorbar": {
             "outlinewidth": 0,
             "ticks": ""
            },
            "type": "choropleth"
           }
          ],
          "contour": [
           {
            "colorbar": {
             "outlinewidth": 0,
             "ticks": ""
            },
            "colorscale": [
             [
              0,
              "#0d0887"
             ],
             [
              0.1111111111111111,
              "#46039f"
             ],
             [
              0.2222222222222222,
              "#7201a8"
             ],
             [
              0.3333333333333333,
              "#9c179e"
             ],
             [
              0.4444444444444444,
              "#bd3786"
             ],
             [
              0.5555555555555556,
              "#d8576b"
             ],
             [
              0.6666666666666666,
              "#ed7953"
             ],
             [
              0.7777777777777778,
              "#fb9f3a"
             ],
             [
              0.8888888888888888,
              "#fdca26"
             ],
             [
              1,
              "#f0f921"
             ]
            ],
            "type": "contour"
           }
          ],
          "contourcarpet": [
           {
            "colorbar": {
             "outlinewidth": 0,
             "ticks": ""
            },
            "type": "contourcarpet"
           }
          ],
          "heatmap": [
           {
            "colorbar": {
             "outlinewidth": 0,
             "ticks": ""
            },
            "colorscale": [
             [
              0,
              "#0d0887"
             ],
             [
              0.1111111111111111,
              "#46039f"
             ],
             [
              0.2222222222222222,
              "#7201a8"
             ],
             [
              0.3333333333333333,
              "#9c179e"
             ],
             [
              0.4444444444444444,
              "#bd3786"
             ],
             [
              0.5555555555555556,
              "#d8576b"
             ],
             [
              0.6666666666666666,
              "#ed7953"
             ],
             [
              0.7777777777777778,
              "#fb9f3a"
             ],
             [
              0.8888888888888888,
              "#fdca26"
             ],
             [
              1,
              "#f0f921"
             ]
            ],
            "type": "heatmap"
           }
          ],
          "histogram": [
           {
            "marker": {
             "pattern": {
              "fillmode": "overlay",
              "size": 10,
              "solidity": 0.2
             }
            },
            "type": "histogram"
           }
          ],
          "histogram2d": [
           {
            "colorbar": {
             "outlinewidth": 0,
             "ticks": ""
            },
            "colorscale": [
             [
              0,
              "#0d0887"
             ],
             [
              0.1111111111111111,
              "#46039f"
             ],
             [
              0.2222222222222222,
              "#7201a8"
             ],
             [
              0.3333333333333333,
              "#9c179e"
             ],
             [
              0.4444444444444444,
              "#bd3786"
             ],
             [
              0.5555555555555556,
              "#d8576b"
             ],
             [
              0.6666666666666666,
              "#ed7953"
             ],
             [
              0.7777777777777778,
              "#fb9f3a"
             ],
             [
              0.8888888888888888,
              "#fdca26"
             ],
             [
              1,
              "#f0f921"
             ]
            ],
            "type": "histogram2d"
           }
          ],
          "histogram2dcontour": [
           {
            "colorbar": {
             "outlinewidth": 0,
             "ticks": ""
            },
            "colorscale": [
             [
              0,
              "#0d0887"
             ],
             [
              0.1111111111111111,
              "#46039f"
             ],
             [
              0.2222222222222222,
              "#7201a8"
             ],
             [
              0.3333333333333333,
              "#9c179e"
             ],
             [
              0.4444444444444444,
              "#bd3786"
             ],
             [
              0.5555555555555556,
              "#d8576b"
             ],
             [
              0.6666666666666666,
              "#ed7953"
             ],
             [
              0.7777777777777778,
              "#fb9f3a"
             ],
             [
              0.8888888888888888,
              "#fdca26"
             ],
             [
              1,
              "#f0f921"
             ]
            ],
            "type": "histogram2dcontour"
           }
          ],
          "mesh3d": [
           {
            "colorbar": {
             "outlinewidth": 0,
             "ticks": ""
            },
            "type": "mesh3d"
           }
          ],
          "parcoords": [
           {
            "line": {
             "colorbar": {
              "outlinewidth": 0,
              "ticks": ""
             }
            },
            "type": "parcoords"
           }
          ],
          "pie": [
           {
            "automargin": true,
            "type": "pie"
           }
          ],
          "scatter": [
           {
            "fillpattern": {
             "fillmode": "overlay",
             "size": 10,
             "solidity": 0.2
            },
            "type": "scatter"
           }
          ],
          "scatter3d": [
           {
            "line": {
             "colorbar": {
              "outlinewidth": 0,
              "ticks": ""
             }
            },
            "marker": {
             "colorbar": {
              "outlinewidth": 0,
              "ticks": ""
             }
            },
            "type": "scatter3d"
           }
          ],
          "scattercarpet": [
           {
            "marker": {
             "colorbar": {
              "outlinewidth": 0,
              "ticks": ""
             }
            },
            "type": "scattercarpet"
           }
          ],
          "scattergeo": [
           {
            "marker": {
             "colorbar": {
              "outlinewidth": 0,
              "ticks": ""
             }
            },
            "type": "scattergeo"
           }
          ],
          "scattergl": [
           {
            "marker": {
             "colorbar": {
              "outlinewidth": 0,
              "ticks": ""
             }
            },
            "type": "scattergl"
           }
          ],
          "scattermap": [
           {
            "marker": {
             "colorbar": {
              "outlinewidth": 0,
              "ticks": ""
             }
            },
            "type": "scattermap"
           }
          ],
          "scattermapbox": [
           {
            "marker": {
             "colorbar": {
              "outlinewidth": 0,
              "ticks": ""
             }
            },
            "type": "scattermapbox"
           }
          ],
          "scatterpolar": [
           {
            "marker": {
             "colorbar": {
              "outlinewidth": 0,
              "ticks": ""
             }
            },
            "type": "scatterpolar"
           }
          ],
          "scatterpolargl": [
           {
            "marker": {
             "colorbar": {
              "outlinewidth": 0,
              "ticks": ""
             }
            },
            "type": "scatterpolargl"
           }
          ],
          "scatterternary": [
           {
            "marker": {
             "colorbar": {
              "outlinewidth": 0,
              "ticks": ""
             }
            },
            "type": "scatterternary"
           }
          ],
          "surface": [
           {
            "colorbar": {
             "outlinewidth": 0,
             "ticks": ""
            },
            "colorscale": [
             [
              0,
              "#0d0887"
             ],
             [
              0.1111111111111111,
              "#46039f"
             ],
             [
              0.2222222222222222,
              "#7201a8"
             ],
             [
              0.3333333333333333,
              "#9c179e"
             ],
             [
              0.4444444444444444,
              "#bd3786"
             ],
             [
              0.5555555555555556,
              "#d8576b"
             ],
             [
              0.6666666666666666,
              "#ed7953"
             ],
             [
              0.7777777777777778,
              "#fb9f3a"
             ],
             [
              0.8888888888888888,
              "#fdca26"
             ],
             [
              1,
              "#f0f921"
             ]
            ],
            "type": "surface"
           }
          ],
          "table": [
           {
            "cells": {
             "fill": {
              "color": "#EBF0F8"
             },
             "line": {
              "color": "white"
             }
            },
            "header": {
             "fill": {
              "color": "#C8D4E3"
             },
             "line": {
              "color": "white"
             }
            },
            "type": "table"
           }
          ]
         },
         "layout": {
          "annotationdefaults": {
           "arrowcolor": "#2a3f5f",
           "arrowhead": 0,
           "arrowwidth": 1
          },
          "autotypenumbers": "strict",
          "coloraxis": {
           "colorbar": {
            "outlinewidth": 0,
            "ticks": ""
           }
          },
          "colorscale": {
           "diverging": [
            [
             0,
             "#8e0152"
            ],
            [
             0.1,
             "#c51b7d"
            ],
            [
             0.2,
             "#de77ae"
            ],
            [
             0.3,
             "#f1b6da"
            ],
            [
             0.4,
             "#fde0ef"
            ],
            [
             0.5,
             "#f7f7f7"
            ],
            [
             0.6,
             "#e6f5d0"
            ],
            [
             0.7,
             "#b8e186"
            ],
            [
             0.8,
             "#7fbc41"
            ],
            [
             0.9,
             "#4d9221"
            ],
            [
             1,
             "#276419"
            ]
           ],
           "sequential": [
            [
             0,
             "#0d0887"
            ],
            [
             0.1111111111111111,
             "#46039f"
            ],
            [
             0.2222222222222222,
             "#7201a8"
            ],
            [
             0.3333333333333333,
             "#9c179e"
            ],
            [
             0.4444444444444444,
             "#bd3786"
            ],
            [
             0.5555555555555556,
             "#d8576b"
            ],
            [
             0.6666666666666666,
             "#ed7953"
            ],
            [
             0.7777777777777778,
             "#fb9f3a"
            ],
            [
             0.8888888888888888,
             "#fdca26"
            ],
            [
             1,
             "#f0f921"
            ]
           ],
           "sequentialminus": [
            [
             0,
             "#0d0887"
            ],
            [
             0.1111111111111111,
             "#46039f"
            ],
            [
             0.2222222222222222,
             "#7201a8"
            ],
            [
             0.3333333333333333,
             "#9c179e"
            ],
            [
             0.4444444444444444,
             "#bd3786"
            ],
            [
             0.5555555555555556,
             "#d8576b"
            ],
            [
             0.6666666666666666,
             "#ed7953"
            ],
            [
             0.7777777777777778,
             "#fb9f3a"
            ],
            [
             0.8888888888888888,
             "#fdca26"
            ],
            [
             1,
             "#f0f921"
            ]
           ]
          },
          "colorway": [
           "#636efa",
           "#EF553B",
           "#00cc96",
           "#ab63fa",
           "#FFA15A",
           "#19d3f3",
           "#FF6692",
           "#B6E880",
           "#FF97FF",
           "#FECB52"
          ],
          "font": {
           "color": "#2a3f5f"
          },
          "geo": {
           "bgcolor": "white",
           "lakecolor": "white",
           "landcolor": "white",
           "showlakes": true,
           "showland": true,
           "subunitcolor": "#C8D4E3"
          },
          "hoverlabel": {
           "align": "left"
          },
          "hovermode": "closest",
          "mapbox": {
           "style": "light"
          },
          "paper_bgcolor": "white",
          "plot_bgcolor": "white",
          "polar": {
           "angularaxis": {
            "gridcolor": "#EBF0F8",
            "linecolor": "#EBF0F8",
            "ticks": ""
           },
           "bgcolor": "white",
           "radialaxis": {
            "gridcolor": "#EBF0F8",
            "linecolor": "#EBF0F8",
            "ticks": ""
           }
          },
          "scene": {
           "xaxis": {
            "backgroundcolor": "white",
            "gridcolor": "#DFE8F3",
            "gridwidth": 2,
            "linecolor": "#EBF0F8",
            "showbackground": true,
            "ticks": "",
            "zerolinecolor": "#EBF0F8"
           },
           "yaxis": {
            "backgroundcolor": "white",
            "gridcolor": "#DFE8F3",
            "gridwidth": 2,
            "linecolor": "#EBF0F8",
            "showbackground": true,
            "ticks": "",
            "zerolinecolor": "#EBF0F8"
           },
           "zaxis": {
            "backgroundcolor": "white",
            "gridcolor": "#DFE8F3",
            "gridwidth": 2,
            "linecolor": "#EBF0F8",
            "showbackground": true,
            "ticks": "",
            "zerolinecolor": "#EBF0F8"
           }
          },
          "shapedefaults": {
           "line": {
            "color": "#2a3f5f"
           }
          },
          "ternary": {
           "aaxis": {
            "gridcolor": "#DFE8F3",
            "linecolor": "#A2B1C6",
            "ticks": ""
           },
           "baxis": {
            "gridcolor": "#DFE8F3",
            "linecolor": "#A2B1C6",
            "ticks": ""
           },
           "bgcolor": "white",
           "caxis": {
            "gridcolor": "#DFE8F3",
            "linecolor": "#A2B1C6",
            "ticks": ""
           }
          },
          "title": {
           "x": 0.05
          },
          "xaxis": {
           "automargin": true,
           "gridcolor": "#EBF0F8",
           "linecolor": "#EBF0F8",
           "ticks": "",
           "title": {
            "standoff": 15
           },
           "zerolinecolor": "#EBF0F8",
           "zerolinewidth": 2
          },
          "yaxis": {
           "automargin": true,
           "gridcolor": "#EBF0F8",
           "linecolor": "#EBF0F8",
           "ticks": "",
           "title": {
            "standoff": 15
           },
           "zerolinecolor": "#EBF0F8",
           "zerolinewidth": 2
          }
         }
        },
        "title": {
         "text": "Liczba Kobiet w zależności od kategorii wiekowej"
        },
        "width": 1000,
        "xaxis": {
         "title": {
          "text": "Kategoria wiekowa"
         }
        },
        "yaxis": {
         "title": {
          "text": "Liczba Kobiet"
         }
        }
       }
      }
     },
     "metadata": {},
     "output_type": "display_data"
    }
   ],
   "source": [
    "# Kategorie wiekowe i kolory\n",
    "age_groups = [\"K-20\", \"K-30\", \"K-40\", \"K-50\", \"K-60\"]\n",
    "colors = ['blue', 'orange', 'green', 'red', 'purple']\n",
    "\n",
    "# Liczenie kobiet w każdej kategorii wiekowej\n",
    "age_group_counts = {}\n",
    "for group in age_groups:\n",
    "    count = women_data.filter(pl.col(\"Kategoria\") == group).height\n",
    "    age_group_counts[group] = count\n",
    "\n",
    "# Przygotowanie danych do wykresu\n",
    "categories = list(age_group_counts.keys())\n",
    "counts = list(age_group_counts.values())\n",
    "\n",
    "# Tworzenie wykresu słupkowego\n",
    "fig = go.Figure(data=[\n",
    "    go.Bar(\n",
    "        x=categories,\n",
    "        y=counts,\n",
    "        marker_color=colors,\n",
    "        textposition='outside',\n",
    "        hoverinfo='text',\n",
    "        hovertext=[f\"Kategoria: {cat}<br>Liczba kobiet: {cnt}\" for cat, cnt in zip(categories, counts)]\n",
    "    )\n",
    "])\n",
    "\n",
    "# Konfiguracja osi i tytułów\n",
    "fig.update_layout(\n",
    "    width=1000,\n",
    "    height=600,\n",
    "    title=\"Liczba Kobiet w zależności od kategorii wiekowej\",\n",
    "    xaxis=dict(title=\"Kategoria wiekowa\"),\n",
    "    yaxis=dict(title=\"Liczba Kobiet\"),\n",
    "    template=\"plotly_white\"\n",
    ")\n",
    "\n",
    "# Wyświetlenie wykresu\n",
    "fig.show()\n"
   ]
  },
  {
   "cell_type": "markdown",
   "id": "6ae7a7da-c3ae-41a1-9c66-e678a9184297",
   "metadata": {},
   "source": [
    "Zarówno u mężczyzn jak i kobiet struktura wieku kształtuje się bardzo podobnie. Najwięcej osób znajdowało się w przedziale wiekowym od 30 do 50 lat. Ponad 21km przebiegło również 12 osób w wieku nie niższym niż 60 lat."
   ]
  },
  {
   "cell_type": "markdown",
   "id": "da474a73-1ad1-49ef-a98a-c22247c54120",
   "metadata": {},
   "source": [
    "**zbadanie miejsca pochodzenia zawodników**"
   ]
  },
  {
   "cell_type": "code",
   "execution_count": 36,
   "id": "9fa637eb-e740-4889-b9ee-b8ef41495d19",
   "metadata": {},
   "outputs": [
    {
     "data": {
      "application/vnd.plotly.v1+json": {
       "config": {
        "plotlyServerURL": "https://plot.ly"
       },
       "data": [
        {
         "hoverinfo": "text",
         "hovertext": [
          "Miasto: GLIWICE<br>Ilość wystąpień: 269",
          "Miasto: RYBNIK<br>Ilość wystąpień: 34",
          "Miasto: ZABRZE<br>Ilość wystąpień: 32",
          "Miasto: KATOWICE<br>Ilość wystąpień: 28",
          "Miasto: BYTOM<br>Ilość wystąpień: 27",
          "Miasto: TARNOWSKIE GÓRY<br>Ilość wystąpień: 18",
          "Miasto: TYCHY<br>Ilość wystąpień: 15",
          "Miasto: PYSKOWICE<br>Ilość wystąpień: 12",
          "Miasto: RUDA ŚLĄSKA<br>Ilość wystąpień: 11",
          "Miasto: ŻORY<br>Ilość wystąpień: 10"
         ],
         "marker": {
          "color": "blue"
         },
         "textposition": "outside",
         "type": "bar",
         "x": [
          "GLIWICE",
          "RYBNIK",
          "ZABRZE",
          "KATOWICE",
          "BYTOM",
          "TARNOWSKIE GÓRY",
          "TYCHY",
          "PYSKOWICE",
          "RUDA ŚLĄSKA",
          "ŻORY"
         ],
         "y": [
          269,
          34,
          32,
          28,
          27,
          18,
          15,
          12,
          11,
          10
         ]
        }
       ],
       "layout": {
        "height": 800,
        "template": {
         "data": {
          "bar": [
           {
            "error_x": {
             "color": "#2a3f5f"
            },
            "error_y": {
             "color": "#2a3f5f"
            },
            "marker": {
             "line": {
              "color": "white",
              "width": 0.5
             },
             "pattern": {
              "fillmode": "overlay",
              "size": 10,
              "solidity": 0.2
             }
            },
            "type": "bar"
           }
          ],
          "barpolar": [
           {
            "marker": {
             "line": {
              "color": "white",
              "width": 0.5
             },
             "pattern": {
              "fillmode": "overlay",
              "size": 10,
              "solidity": 0.2
             }
            },
            "type": "barpolar"
           }
          ],
          "carpet": [
           {
            "aaxis": {
             "endlinecolor": "#2a3f5f",
             "gridcolor": "#C8D4E3",
             "linecolor": "#C8D4E3",
             "minorgridcolor": "#C8D4E3",
             "startlinecolor": "#2a3f5f"
            },
            "baxis": {
             "endlinecolor": "#2a3f5f",
             "gridcolor": "#C8D4E3",
             "linecolor": "#C8D4E3",
             "minorgridcolor": "#C8D4E3",
             "startlinecolor": "#2a3f5f"
            },
            "type": "carpet"
           }
          ],
          "choropleth": [
           {
            "colorbar": {
             "outlinewidth": 0,
             "ticks": ""
            },
            "type": "choropleth"
           }
          ],
          "contour": [
           {
            "colorbar": {
             "outlinewidth": 0,
             "ticks": ""
            },
            "colorscale": [
             [
              0,
              "#0d0887"
             ],
             [
              0.1111111111111111,
              "#46039f"
             ],
             [
              0.2222222222222222,
              "#7201a8"
             ],
             [
              0.3333333333333333,
              "#9c179e"
             ],
             [
              0.4444444444444444,
              "#bd3786"
             ],
             [
              0.5555555555555556,
              "#d8576b"
             ],
             [
              0.6666666666666666,
              "#ed7953"
             ],
             [
              0.7777777777777778,
              "#fb9f3a"
             ],
             [
              0.8888888888888888,
              "#fdca26"
             ],
             [
              1,
              "#f0f921"
             ]
            ],
            "type": "contour"
           }
          ],
          "contourcarpet": [
           {
            "colorbar": {
             "outlinewidth": 0,
             "ticks": ""
            },
            "type": "contourcarpet"
           }
          ],
          "heatmap": [
           {
            "colorbar": {
             "outlinewidth": 0,
             "ticks": ""
            },
            "colorscale": [
             [
              0,
              "#0d0887"
             ],
             [
              0.1111111111111111,
              "#46039f"
             ],
             [
              0.2222222222222222,
              "#7201a8"
             ],
             [
              0.3333333333333333,
              "#9c179e"
             ],
             [
              0.4444444444444444,
              "#bd3786"
             ],
             [
              0.5555555555555556,
              "#d8576b"
             ],
             [
              0.6666666666666666,
              "#ed7953"
             ],
             [
              0.7777777777777778,
              "#fb9f3a"
             ],
             [
              0.8888888888888888,
              "#fdca26"
             ],
             [
              1,
              "#f0f921"
             ]
            ],
            "type": "heatmap"
           }
          ],
          "histogram": [
           {
            "marker": {
             "pattern": {
              "fillmode": "overlay",
              "size": 10,
              "solidity": 0.2
             }
            },
            "type": "histogram"
           }
          ],
          "histogram2d": [
           {
            "colorbar": {
             "outlinewidth": 0,
             "ticks": ""
            },
            "colorscale": [
             [
              0,
              "#0d0887"
             ],
             [
              0.1111111111111111,
              "#46039f"
             ],
             [
              0.2222222222222222,
              "#7201a8"
             ],
             [
              0.3333333333333333,
              "#9c179e"
             ],
             [
              0.4444444444444444,
              "#bd3786"
             ],
             [
              0.5555555555555556,
              "#d8576b"
             ],
             [
              0.6666666666666666,
              "#ed7953"
             ],
             [
              0.7777777777777778,
              "#fb9f3a"
             ],
             [
              0.8888888888888888,
              "#fdca26"
             ],
             [
              1,
              "#f0f921"
             ]
            ],
            "type": "histogram2d"
           }
          ],
          "histogram2dcontour": [
           {
            "colorbar": {
             "outlinewidth": 0,
             "ticks": ""
            },
            "colorscale": [
             [
              0,
              "#0d0887"
             ],
             [
              0.1111111111111111,
              "#46039f"
             ],
             [
              0.2222222222222222,
              "#7201a8"
             ],
             [
              0.3333333333333333,
              "#9c179e"
             ],
             [
              0.4444444444444444,
              "#bd3786"
             ],
             [
              0.5555555555555556,
              "#d8576b"
             ],
             [
              0.6666666666666666,
              "#ed7953"
             ],
             [
              0.7777777777777778,
              "#fb9f3a"
             ],
             [
              0.8888888888888888,
              "#fdca26"
             ],
             [
              1,
              "#f0f921"
             ]
            ],
            "type": "histogram2dcontour"
           }
          ],
          "mesh3d": [
           {
            "colorbar": {
             "outlinewidth": 0,
             "ticks": ""
            },
            "type": "mesh3d"
           }
          ],
          "parcoords": [
           {
            "line": {
             "colorbar": {
              "outlinewidth": 0,
              "ticks": ""
             }
            },
            "type": "parcoords"
           }
          ],
          "pie": [
           {
            "automargin": true,
            "type": "pie"
           }
          ],
          "scatter": [
           {
            "fillpattern": {
             "fillmode": "overlay",
             "size": 10,
             "solidity": 0.2
            },
            "type": "scatter"
           }
          ],
          "scatter3d": [
           {
            "line": {
             "colorbar": {
              "outlinewidth": 0,
              "ticks": ""
             }
            },
            "marker": {
             "colorbar": {
              "outlinewidth": 0,
              "ticks": ""
             }
            },
            "type": "scatter3d"
           }
          ],
          "scattercarpet": [
           {
            "marker": {
             "colorbar": {
              "outlinewidth": 0,
              "ticks": ""
             }
            },
            "type": "scattercarpet"
           }
          ],
          "scattergeo": [
           {
            "marker": {
             "colorbar": {
              "outlinewidth": 0,
              "ticks": ""
             }
            },
            "type": "scattergeo"
           }
          ],
          "scattergl": [
           {
            "marker": {
             "colorbar": {
              "outlinewidth": 0,
              "ticks": ""
             }
            },
            "type": "scattergl"
           }
          ],
          "scattermap": [
           {
            "marker": {
             "colorbar": {
              "outlinewidth": 0,
              "ticks": ""
             }
            },
            "type": "scattermap"
           }
          ],
          "scattermapbox": [
           {
            "marker": {
             "colorbar": {
              "outlinewidth": 0,
              "ticks": ""
             }
            },
            "type": "scattermapbox"
           }
          ],
          "scatterpolar": [
           {
            "marker": {
             "colorbar": {
              "outlinewidth": 0,
              "ticks": ""
             }
            },
            "type": "scatterpolar"
           }
          ],
          "scatterpolargl": [
           {
            "marker": {
             "colorbar": {
              "outlinewidth": 0,
              "ticks": ""
             }
            },
            "type": "scatterpolargl"
           }
          ],
          "scatterternary": [
           {
            "marker": {
             "colorbar": {
              "outlinewidth": 0,
              "ticks": ""
             }
            },
            "type": "scatterternary"
           }
          ],
          "surface": [
           {
            "colorbar": {
             "outlinewidth": 0,
             "ticks": ""
            },
            "colorscale": [
             [
              0,
              "#0d0887"
             ],
             [
              0.1111111111111111,
              "#46039f"
             ],
             [
              0.2222222222222222,
              "#7201a8"
             ],
             [
              0.3333333333333333,
              "#9c179e"
             ],
             [
              0.4444444444444444,
              "#bd3786"
             ],
             [
              0.5555555555555556,
              "#d8576b"
             ],
             [
              0.6666666666666666,
              "#ed7953"
             ],
             [
              0.7777777777777778,
              "#fb9f3a"
             ],
             [
              0.8888888888888888,
              "#fdca26"
             ],
             [
              1,
              "#f0f921"
             ]
            ],
            "type": "surface"
           }
          ],
          "table": [
           {
            "cells": {
             "fill": {
              "color": "#EBF0F8"
             },
             "line": {
              "color": "white"
             }
            },
            "header": {
             "fill": {
              "color": "#C8D4E3"
             },
             "line": {
              "color": "white"
             }
            },
            "type": "table"
           }
          ]
         },
         "layout": {
          "annotationdefaults": {
           "arrowcolor": "#2a3f5f",
           "arrowhead": 0,
           "arrowwidth": 1
          },
          "autotypenumbers": "strict",
          "coloraxis": {
           "colorbar": {
            "outlinewidth": 0,
            "ticks": ""
           }
          },
          "colorscale": {
           "diverging": [
            [
             0,
             "#8e0152"
            ],
            [
             0.1,
             "#c51b7d"
            ],
            [
             0.2,
             "#de77ae"
            ],
            [
             0.3,
             "#f1b6da"
            ],
            [
             0.4,
             "#fde0ef"
            ],
            [
             0.5,
             "#f7f7f7"
            ],
            [
             0.6,
             "#e6f5d0"
            ],
            [
             0.7,
             "#b8e186"
            ],
            [
             0.8,
             "#7fbc41"
            ],
            [
             0.9,
             "#4d9221"
            ],
            [
             1,
             "#276419"
            ]
           ],
           "sequential": [
            [
             0,
             "#0d0887"
            ],
            [
             0.1111111111111111,
             "#46039f"
            ],
            [
             0.2222222222222222,
             "#7201a8"
            ],
            [
             0.3333333333333333,
             "#9c179e"
            ],
            [
             0.4444444444444444,
             "#bd3786"
            ],
            [
             0.5555555555555556,
             "#d8576b"
            ],
            [
             0.6666666666666666,
             "#ed7953"
            ],
            [
             0.7777777777777778,
             "#fb9f3a"
            ],
            [
             0.8888888888888888,
             "#fdca26"
            ],
            [
             1,
             "#f0f921"
            ]
           ],
           "sequentialminus": [
            [
             0,
             "#0d0887"
            ],
            [
             0.1111111111111111,
             "#46039f"
            ],
            [
             0.2222222222222222,
             "#7201a8"
            ],
            [
             0.3333333333333333,
             "#9c179e"
            ],
            [
             0.4444444444444444,
             "#bd3786"
            ],
            [
             0.5555555555555556,
             "#d8576b"
            ],
            [
             0.6666666666666666,
             "#ed7953"
            ],
            [
             0.7777777777777778,
             "#fb9f3a"
            ],
            [
             0.8888888888888888,
             "#fdca26"
            ],
            [
             1,
             "#f0f921"
            ]
           ]
          },
          "colorway": [
           "#636efa",
           "#EF553B",
           "#00cc96",
           "#ab63fa",
           "#FFA15A",
           "#19d3f3",
           "#FF6692",
           "#B6E880",
           "#FF97FF",
           "#FECB52"
          ],
          "font": {
           "color": "#2a3f5f"
          },
          "geo": {
           "bgcolor": "white",
           "lakecolor": "white",
           "landcolor": "white",
           "showlakes": true,
           "showland": true,
           "subunitcolor": "#C8D4E3"
          },
          "hoverlabel": {
           "align": "left"
          },
          "hovermode": "closest",
          "mapbox": {
           "style": "light"
          },
          "paper_bgcolor": "white",
          "plot_bgcolor": "white",
          "polar": {
           "angularaxis": {
            "gridcolor": "#EBF0F8",
            "linecolor": "#EBF0F8",
            "ticks": ""
           },
           "bgcolor": "white",
           "radialaxis": {
            "gridcolor": "#EBF0F8",
            "linecolor": "#EBF0F8",
            "ticks": ""
           }
          },
          "scene": {
           "xaxis": {
            "backgroundcolor": "white",
            "gridcolor": "#DFE8F3",
            "gridwidth": 2,
            "linecolor": "#EBF0F8",
            "showbackground": true,
            "ticks": "",
            "zerolinecolor": "#EBF0F8"
           },
           "yaxis": {
            "backgroundcolor": "white",
            "gridcolor": "#DFE8F3",
            "gridwidth": 2,
            "linecolor": "#EBF0F8",
            "showbackground": true,
            "ticks": "",
            "zerolinecolor": "#EBF0F8"
           },
           "zaxis": {
            "backgroundcolor": "white",
            "gridcolor": "#DFE8F3",
            "gridwidth": 2,
            "linecolor": "#EBF0F8",
            "showbackground": true,
            "ticks": "",
            "zerolinecolor": "#EBF0F8"
           }
          },
          "shapedefaults": {
           "line": {
            "color": "#2a3f5f"
           }
          },
          "ternary": {
           "aaxis": {
            "gridcolor": "#DFE8F3",
            "linecolor": "#A2B1C6",
            "ticks": ""
           },
           "baxis": {
            "gridcolor": "#DFE8F3",
            "linecolor": "#A2B1C6",
            "ticks": ""
           },
           "bgcolor": "white",
           "caxis": {
            "gridcolor": "#DFE8F3",
            "linecolor": "#A2B1C6",
            "ticks": ""
           }
          },
          "title": {
           "x": 0.05
          },
          "xaxis": {
           "automargin": true,
           "gridcolor": "#EBF0F8",
           "linecolor": "#EBF0F8",
           "ticks": "",
           "title": {
            "standoff": 15
           },
           "zerolinecolor": "#EBF0F8",
           "zerolinewidth": 2
          },
          "yaxis": {
           "automargin": true,
           "gridcolor": "#EBF0F8",
           "linecolor": "#EBF0F8",
           "ticks": "",
           "title": {
            "standoff": 15
           },
           "zerolinecolor": "#EBF0F8",
           "zerolinewidth": 2
          }
         }
        },
        "title": {
         "text": "10 najczęstszych miast"
        },
        "width": 1000,
        "xaxis": {
         "tickangle": -45,
         "title": {
          "text": "Miasto"
         }
        },
        "yaxis": {
         "title": {
          "text": "Ilość wystąpień"
         }
        }
       }
      }
     },
     "metadata": {},
     "output_type": "display_data"
    }
   ],
   "source": [
    "# Grupowanie danych i sortowanie\n",
    "city_counts = data.group_by(\"Miejscowość\").agg(\n",
    "    pl.len().alias(\"Count\")\n",
    ").sort(\"Count\", descending=True).head(10)\n",
    "\n",
    "cities = city_counts[\"Miejscowość\"].to_list()\n",
    "counts = city_counts[\"Count\"].to_list()\n",
    "\n",
    "# Tworzenie wykresu\n",
    "fig = go.Figure(data=[\n",
    "    go.Bar(\n",
    "        x=cities,\n",
    "        y=counts,\n",
    "        marker_color='blue',\n",
    "        textposition='outside',\n",
    "        hoverinfo='text',\n",
    "        hovertext=[f\"Miasto: {city}<br>Ilość wystąpień: {count}\" for city, count in zip(cities, counts)]\n",
    "    )\n",
    "])\n",
    "\n",
    "# Konfiguracja osi i tytułów\n",
    "fig.update_layout(\n",
    "    width=1000,\n",
    "    height=800,\n",
    "    title=\"10 najczęstszych miast\",\n",
    "    xaxis=dict(title=\"Miasto\"),\n",
    "    yaxis=dict(title=\"Ilość wystąpień\"),\n",
    "    template=\"plotly_white\",\n",
    "    xaxis_tickangle=-45\n",
    ")\n",
    "\n",
    "# Wyświetlenie wykresu\n",
    "fig.show()\n"
   ]
  },
  {
   "cell_type": "markdown",
   "id": "1e73c867-42cb-4b3e-b206-c1b45ed9fa1c",
   "metadata": {},
   "source": [
    "Najwięcej zawodników było oczywiście z Gliwic."
   ]
  },
  {
   "cell_type": "markdown",
   "id": "d2a15837-4280-4db6-a37b-e2006a9d3a6c",
   "metadata": {},
   "source": [
    "**udział procentowy osób zarejestrowany w klubach**"
   ]
  },
  {
   "cell_type": "code",
   "execution_count": 37,
   "id": "043bca62-76b5-4230-b94e-0046bfae5ef3",
   "metadata": {},
   "outputs": [
    {
     "data": {
      "image/png": "[encoded data removed]",
      "text/plain": [
       "<Figure size 640x480 with 1 Axes>"
      ]
     },
     "metadata": {},
     "output_type": "display_data"
    }
   ],
   "source": [
    "registered_in_clubs = data.filter(pl.col(\"Klub\").is_not_null()).height\n",
    "not_in_clubs = data.filter(pl.col(\"Klub\").is_null()).height\n",
    "\n",
    "labels = ['Zarejestrowani w klubach', 'Niezarejestrowani w klubach sportowych']\n",
    "counts = [registered_in_clubs, not_in_clubs]\n",
    "colors = ['blue', 'orange']\n",
    "\n",
    "plt.pie(counts, labels=labels, autopct='%1.1f%%', colors=colors, startangle=90)\n",
    "plt.title('Udział procentowy osób zarejestrowany w klubach sportowych')\n",
    "\n",
    "plt.show()"
   ]
  },
  {
   "cell_type": "markdown",
   "id": "bd36c5b7-56d9-4336-b355-4d53c49c3543",
   "metadata": {},
   "source": [
    "Zarejestrowanych w klubach okazało się być aż 36% startujących w X Gliwickim Półmaratonie. Może to sugerować, że kluby stanowią ważne zaplecze treningowe i motywacyjne, które przyciąga do biegania coraz więcej osób. "
   ]
  }
 ],
 "metadata": {
  "kernelspec": {
   "display_name": "Python 3",
   "language": "python",
   "name": "python3"
  },
  "language_info": {
   "codemirror_mode": {
    "name": "ipython",
    "version": 3
   },
   "file_extension": ".py",
   "mimetype": "text/x-python",
   "name": "python",
   "nbconvert_exporter": "python",
   "pygments_lexer": "ipython3",
   "version": "3.13.3"
  }
 },
 "nbformat": 4,
 "nbformat_minor": 5
}
